{
 "cells": [
  {
   "cell_type": "markdown",
   "metadata": {
    "id": "bBNeKAyF3Y-h"
   },
   "source": [
    "# 4a. Data Augmentation"
   ]
  },
  {
   "cell_type": "markdown",
   "metadata": {},
   "source": [
    "### Google Colab Setup\n",
    "First off, we need to run a few commands to set up our environment on Google Colab. If you are running this notebook on a local machine you can skip this section, but you will need to use the environment.yaml file to set up your Python environment and use it for your Jupyter kernel.\n",
    "\n",
    "Run the following cell to mount your Google Drive. Follow the link, sign in to your Google account (the same account you used to store this notebook!)."
   ]
  },
  {
   "cell_type": "code",
   "execution_count": null,
   "metadata": {},
   "outputs": [],
   "source": [
    "from google.colab import drive\n",
    "drive.mount('/content/drive')"
   ]
  },
  {
   "cell_type": "markdown",
   "metadata": {},
   "source": [
    "Now remember the path in your Google Drive where you uploaded this notebook, fill it in below. If all functions properly, executing the next cell should display the filenames from the assignment:\n",
    "\n",
    "```\n",
    "['03_asl_cnn.ipynb', 'data', 'images', '02_asl.ipynb', '01_mnist.ipynb']\n",
    "```"
   ]
  },
  {
   "cell_type": "code",
   "execution_count": null,
   "metadata": {},
   "outputs": [],
   "source": [
    "import os\n",
    "\n",
    "# TODO: Fill in the Google Drive path where you uploaded assignment1\n",
    "# Example: If you create a Fall2023 folder and put all the files under A1 folder, then 'Fall2023/A1'\n",
    "GOOGLE_DRIVE_PATH_POST_MYDRIVE = 'CS5388_PyTorch1'\n",
    "GOOGLE_DRIVE_PATH = os.path.join('/content', 'drive', 'MyDrive', GOOGLE_DRIVE_PATH_POST_MYDRIVE)\n",
    "print(os.listdir(GOOGLE_DRIVE_PATH))"
   ]
  },
  {
   "cell_type": "code",
   "execution_count": null,
   "metadata": {},
   "outputs": [],
   "source": [
    "import sys\n",
    "\n",
    "sys.path.append(GOOGLE_DRIVE_PATH)"
   ]
  },
  {
   "cell_type": "markdown",
   "metadata": {},
   "source": [
    "### Local Setup OR Google Drive\n",
    "Run the cell below regardless of whether you are using google drive or local setup."
   ]
  },
  {
   "cell_type": "code",
   "execution_count": 1,
   "metadata": {},
   "outputs": [
    {
     "name": "stdout",
     "output_type": "stream",
     "text": [
      "Running locally.\n"
     ]
    }
   ],
   "source": [
    "# if running locally set GOOGLE PATH\n",
    "import sys\n",
    "if 'google.colab' in sys.modules:\n",
    "  print(f'Running in google colab. Our path is `{GOOGLE_DRIVE_PATH}`')\n",
    "else:\n",
    "  GOOGLE_DRIVE_PATH = '.'\n",
    "  print('Running locally.')"
   ]
  },
  {
   "cell_type": "markdown",
   "metadata": {
    "id": "HTHY1Otu3Y-h"
   },
   "source": [
    "So far, we've selected a model architecture that vastly improves the model's performance, as it is designed to recognize important features in the images. The validation accuracy is still lagging behind the training accuracy, which is a sign of overfitting: the model is getting confused by things it has not seen before when it tests against the validation dataset.\n",
    "\n",
    "In order to teach our model to be more robust when looking at new data, we're going to programmatically increase the size and variance in our dataset. This is known as [*data augmentation*](https://link.springer.com/article/10.1186/s40537-019-0197-0), a useful technique for many deep learning applications.\n",
    "\n",
    "The increase in size gives the model more images to learn from while training. The increase in variance helps the model ignore unimportant features and select only the features that are truly important in classification, allowing it to generalize better."
   ]
  },
  {
   "cell_type": "markdown",
   "metadata": {
    "id": "k01AskqI3Y-h"
   },
   "source": [
    "## 4a.1 Objectives"
   ]
  },
  {
   "cell_type": "markdown",
   "metadata": {
    "id": "YCFOyxKS3Y-h"
   },
   "source": [
    "* Augment the ASL dataset\n",
    "* Use the augmented data to train an improved model\n",
    "* Save the well-trained model to disk for use in deployment"
   ]
  },
  {
   "cell_type": "code",
   "execution_count": 44,
   "metadata": {
    "colab": {
     "base_uri": "https://localhost:8080/"
    },
    "executionInfo": {
     "elapsed": 6560,
     "status": "ok",
     "timestamp": 1715241340700,
     "user": {
      "displayName": "Danielle Detering US",
      "userId": "15432464718872067879"
     },
     "user_tz": 420
    },
    "id": "ocl26UO63Y-i",
    "outputId": "b097ecfc-e330-4c6e-d386-4b2b7cbb55bb"
   },
   "outputs": [
    {
     "data": {
      "text/plain": [
       "False"
      ]
     },
     "execution_count": 44,
     "metadata": {},
     "output_type": "execute_result"
    }
   ],
   "source": [
    "import torch.nn as nn\n",
    "import pandas as pd\n",
    "import torch\n",
    "from torch.optim import Adam\n",
    "from torch.utils.data import Dataset, DataLoader\n",
    "import torchvision.transforms.v2 as transforms\n",
    "import torchvision.transforms.functional as F\n",
    "import matplotlib.pyplot as plt\n",
    "\n",
    "import utils\n",
    "\n",
    "import torch._dynamo\n",
    "torch._dynamo.config.suppress_errors = True\n",
    "\n",
    "\n",
    "device = torch.device(\"cuda\" if torch.cuda.is_available() else \"cpu\")\n",
    "torch.cuda.is_available()"
   ]
  },
  {
   "cell_type": "markdown",
   "metadata": {
    "id": "u-FCWlRg3Y-h"
   },
   "source": [
    "## 4a.2 Preparing the Data"
   ]
  },
  {
   "cell_type": "markdown",
   "metadata": {
    "id": "JjSagpmG3Y-i"
   },
   "source": [
    "As we're in a new notebook, we will load and process our data again. To do this, execute the following cell:"
   ]
  },
  {
   "cell_type": "code",
   "execution_count": 45,
   "metadata": {
    "executionInfo": {
     "elapsed": 3988,
     "status": "ok",
     "timestamp": 1715241345056,
     "user": {
      "displayName": "Danielle Detering US",
      "userId": "15432464718872067879"
     },
     "user_tz": 420
    },
    "id": "jYhhD7yo2WEI"
   },
   "outputs": [],
   "source": [
    "IMG_HEIGHT = 28\n",
    "IMG_WIDTH = 28\n",
    "IMG_CHS = 1\n",
    "N_CLASSES = 24\n",
    "\n",
    "train_df = pd.read_csv(f\"{GOOGLE_DRIVE_PATH}/data/asl_data/sign_mnist_train.csv\")\n",
    "valid_df = pd.read_csv(f\"{GOOGLE_DRIVE_PATH}/data/asl_data/sign_mnist_valid.csv\")\n",
    "\n",
    "class MyDataset(Dataset):\n",
    "    def __init__(self, base_df):\n",
    "        x_df = base_df.copy()\n",
    "        y_df = x_df.pop('label')\n",
    "        x_df = x_df.values / 255  # Normalize values from 0 to 1\n",
    "        x_df = x_df.reshape(-1, IMG_CHS, IMG_WIDTH, IMG_HEIGHT)\n",
    "        self.xs = torch.tensor(x_df).float().to(device)\n",
    "        self.ys = torch.tensor(y_df).to(device)\n",
    "\n",
    "    def __getitem__(self, idx):\n",
    "        x = self.xs[idx]\n",
    "        y = self.ys[idx]\n",
    "        return x, y\n",
    "\n",
    "    def __len__(self):\n",
    "        return len(self.xs)\n",
    "\n",
    "n = 32\n",
    "train_data = MyDataset(train_df)\n",
    "train_loader = DataLoader(train_data, batch_size=n, shuffle=True)\n",
    "train_N = len(train_loader.dataset)\n",
    "\n",
    "valid_data = MyDataset(valid_df)\n",
    "valid_loader = DataLoader(valid_data, batch_size=n)\n",
    "valid_N = len(valid_loader.dataset)"
   ]
  },
  {
   "cell_type": "markdown",
   "metadata": {
    "id": "qwsfoZkE3Y-i"
   },
   "source": [
    "## 4a.3 Model Creation"
   ]
  },
  {
   "cell_type": "markdown",
   "metadata": {
    "id": "ze7Tv-Aj3Y-i"
   },
   "source": [
    "We will also need to create our model again. As we learned in the last lesson, convolutional neural networks use a repeated sequence of layers. Let's take advantage of this pattern to make our own [custom module](https://pytorch.org/tutorials/beginner/examples_nn/two_layer_net_module.html). We can then use this module like a layer in our [Sequential](https://pytorch.org/docs/stable/generated/torch.nn.Sequential.html) model.\n",
    "\n",
    "To do this, we will extend the [Module](https://pytorch.org/docs/stable/generated/torch.nn.Module.html) class. Then we will define two methods:\n",
    "* `__init__`: defines any properties we want our module to have, including our neural network layers. We will effectively be using a model within a model.\n",
    "* `forward`: defines how we want the module to process any incoming data from the previous layer it is connected to. Since we are using a `Sequential` model, we can pass the input data into it like we are making a prediction."
   ]
  },
  {
   "cell_type": "code",
   "execution_count": 46,
   "metadata": {
    "executionInfo": {
     "elapsed": 322,
     "status": "ok",
     "timestamp": 1715241347583,
     "user": {
      "displayName": "Danielle Detering US",
      "userId": "15432464718872067879"
     },
     "user_tz": 420
    },
    "id": "_o8Y7C91Bfl8"
   },
   "outputs": [],
   "source": [
    "class MyConvBlock(nn.Module):\n",
    "    def __init__(self, in_ch, out_ch, dropout_p):\n",
    "        kernel_size = 3\n",
    "        super().__init__()\n",
    "\n",
    "        self.model = nn.Sequential(\n",
    "            nn.Conv2d(in_ch, out_ch, kernel_size, stride=1, padding=1),\n",
    "            nn.BatchNorm2d(out_ch),\n",
    "            nn.ReLU(),\n",
    "            nn.Dropout(dropout_p),\n",
    "            nn.MaxPool2d(2, stride=2)\n",
    "        )\n",
    "\n",
    "    def forward(self, x):\n",
    "        return self.model(x)"
   ]
  },
  {
   "cell_type": "markdown",
   "metadata": {},
   "source": [
    "Now that we've define our custom module, let's see it in action. The below model ia archecturially the same as in the previous lesson. Can you see the connection?"
   ]
  },
  {
   "cell_type": "code",
   "execution_count": 47,
   "metadata": {
    "executionInfo": {
     "elapsed": 2,
     "status": "ok",
     "timestamp": 1715241351435,
     "user": {
      "displayName": "Danielle Detering US",
      "userId": "15432464718872067879"
     },
     "user_tz": 420
    },
    "id": "I0A_7iJvB8Kc"
   },
   "outputs": [],
   "source": [
    "flattened_img_size = 75 * 3 * 3\n",
    "\n",
    "# Input 1 x 28 x 28\n",
    "base_model = nn.Sequential(\n",
    "    MyConvBlock(IMG_CHS, 25, 0), # 25 x 14 x 14\n",
    "    MyConvBlock(25, 50, 0.2), # 50 x 7 x 7\n",
    "    MyConvBlock(50, 75, 0),  # 75 x 3 x 3\n",
    "    # Flatten to Dense Layers\n",
    "    nn.Flatten(),\n",
    "    nn.Linear(flattened_img_size, 512),\n",
    "    nn.Dropout(.3),\n",
    "    nn.ReLU(),\n",
    "    nn.Linear(512, N_CLASSES)\n",
    ")\n",
    "\n",
    "model = base_model"
   ]
  },
  {
   "cell_type": "markdown",
   "metadata": {},
   "source": [
    "When we print the model, not only will it now show the use of our custom module, it will also show the layers within our custom module:"
   ]
  },
  {
   "cell_type": "code",
   "execution_count": 48,
   "metadata": {
    "colab": {
     "base_uri": "https://localhost:8080/"
    },
    "executionInfo": {
     "elapsed": 465,
     "status": "ok",
     "timestamp": 1715241354080,
     "user": {
      "displayName": "Danielle Detering US",
      "userId": "15432464718872067879"
     },
     "user_tz": 420
    },
    "id": "4THc2t0HhNcv",
    "outputId": "e25d69a9-e51a-4a90-90df-dc69a586f54b"
   },
   "outputs": [
    {
     "data": {
      "text/plain": [
       "OptimizedModule(\n",
       "  (_orig_mod): Sequential(\n",
       "    (0): MyConvBlock(\n",
       "      (model): Sequential(\n",
       "        (0): Conv2d(1, 25, kernel_size=(3, 3), stride=(1, 1), padding=(1, 1))\n",
       "        (1): BatchNorm2d(25, eps=1e-05, momentum=0.1, affine=True, track_running_stats=True)\n",
       "        (2): ReLU()\n",
       "        (3): Dropout(p=0, inplace=False)\n",
       "        (4): MaxPool2d(kernel_size=2, stride=2, padding=0, dilation=1, ceil_mode=False)\n",
       "      )\n",
       "    )\n",
       "    (1): MyConvBlock(\n",
       "      (model): Sequential(\n",
       "        (0): Conv2d(25, 50, kernel_size=(3, 3), stride=(1, 1), padding=(1, 1))\n",
       "        (1): BatchNorm2d(50, eps=1e-05, momentum=0.1, affine=True, track_running_stats=True)\n",
       "        (2): ReLU()\n",
       "        (3): Dropout(p=0.2, inplace=False)\n",
       "        (4): MaxPool2d(kernel_size=2, stride=2, padding=0, dilation=1, ceil_mode=False)\n",
       "      )\n",
       "    )\n",
       "    (2): MyConvBlock(\n",
       "      (model): Sequential(\n",
       "        (0): Conv2d(50, 75, kernel_size=(3, 3), stride=(1, 1), padding=(1, 1))\n",
       "        (1): BatchNorm2d(75, eps=1e-05, momentum=0.1, affine=True, track_running_stats=True)\n",
       "        (2): ReLU()\n",
       "        (3): Dropout(p=0, inplace=False)\n",
       "        (4): MaxPool2d(kernel_size=2, stride=2, padding=0, dilation=1, ceil_mode=False)\n",
       "      )\n",
       "    )\n",
       "    (3): Flatten(start_dim=1, end_dim=-1)\n",
       "    (4): Linear(in_features=675, out_features=512, bias=True)\n",
       "    (5): Dropout(p=0.3, inplace=False)\n",
       "    (6): ReLU()\n",
       "    (7): Linear(in_features=512, out_features=24, bias=True)\n",
       "  )\n",
       ")"
      ]
     },
     "execution_count": 48,
     "metadata": {},
     "output_type": "execute_result"
    }
   ],
   "source": [
    "loss_function = nn.CrossEntropyLoss()\n",
    "optimizer = Adam(base_model.parameters())\n",
    "\n",
    "model = torch.compile(base_model.to(device))\n",
    "model"
   ]
  },
  {
   "cell_type": "markdown",
   "metadata": {},
   "source": [
    "Custom modules are flexible, and we can define any other methods or properties we wish to have. This makes them powerful when data scientists are trying to solve complex problems."
   ]
  },
  {
   "cell_type": "markdown",
   "metadata": {
    "id": "kjBNCzfc3Y-j"
   },
   "source": [
    "## 4a.4 Data Augmentation"
   ]
  },
  {
   "cell_type": "markdown",
   "metadata": {
    "id": "y8HdHKtM3Y-j"
   },
   "source": [
    "Before defining our training loop, it's time to set up our data augmentation.\n",
    "\n",
    "We've seen [TorchVision](https://pytorch.org/vision/stable/index.html)'s [Transforms](https://pytorch.org/vision/0.9/transforms.html) before, but in this lesson, we will further explore its data augmentation tools. First, let's get a sample image to test with:"
   ]
  },
  {
   "cell_type": "code",
   "execution_count": 49,
   "metadata": {
    "colab": {
     "base_uri": "https://localhost:8080/"
    },
    "executionInfo": {
     "elapsed": 312,
     "status": "ok",
     "timestamp": 1715241358482,
     "user": {
      "displayName": "Danielle Detering US",
      "userId": "15432464718872067879"
     },
     "user_tz": 420
    },
    "id": "-LT7NvrXhYwB",
    "outputId": "4c1c1af4-811b-46d7-fa73-594772907549"
   },
   "outputs": [
    {
     "data": {
      "text/plain": [
       "torch.Size([1, 28, 28])"
      ]
     },
     "execution_count": 49,
     "metadata": {},
     "output_type": "execute_result"
    }
   ],
   "source": [
    "row_0 = train_df.head(1)\n",
    "y_0 = row_0.pop('label')\n",
    "x_0 = row_0.values / 255\n",
    "x_0 = x_0.reshape(IMG_CHS, IMG_WIDTH, IMG_HEIGHT)\n",
    "x_0 = torch.tensor(x_0)\n",
    "x_0.shape"
   ]
  },
  {
   "cell_type": "code",
   "execution_count": 50,
   "metadata": {
    "colab": {
     "base_uri": "https://localhost:8080/",
     "height": 447
    },
    "executionInfo": {
     "elapsed": 332,
     "status": "ok",
     "timestamp": 1715241364072,
     "user": {
      "displayName": "Danielle Detering US",
      "userId": "15432464718872067879"
     },
     "user_tz": 420
    },
    "id": "XKFRYIpvkUEF",
    "outputId": "fb3f72ab-ce59-4bfc-a54a-0a4d575e497c"
   },
   "outputs": [
    {
     "data": {
      "text/plain": [
       "<matplotlib.image.AxesImage at 0x399696350>"
      ]
     },
     "execution_count": 50,
     "metadata": {},
     "output_type": "execute_result"
    },
    {
     "data": {
      "image/png": "[encoded data removed]",
      "text/plain": [
       "<Figure size 640x480 with 1 Axes>"
      ]
     },
     "metadata": {},
     "output_type": "display_data"
    }
   ],
   "source": [
    "image = F.to_pil_image(x_0)\n",
    "plt.imshow(image, cmap='gray')"
   ]
  },
  {
   "cell_type": "markdown",
   "metadata": {},
   "source": [
    "### 4a.4.1 [RandomResizeCrop](https://pytorch.org/vision/0.9/transforms.html#torchvision.transforms.RandomResizedCrop)"
   ]
  },
  {
   "cell_type": "markdown",
   "metadata": {},
   "source": [
    "This transform will randomly resize the input image based on `scale`, and then [crop](https://en.wikipedia.org/wiki/Cropping_(image)) it to a size we specify. In this case, we will crop it to the original image dimensions. To do this, TorchVision needs to know the [aspect ratio](https://en.wikipedia.org/wiki/Aspect_ratio_(image)) of the image it is scaling. Since our height is the same as our width, our aspect `ratio` is 1:1."
   ]
  },
  {
   "cell_type": "code",
   "execution_count": 51,
   "metadata": {
    "executionInfo": {
     "elapsed": 2,
     "status": "ok",
     "timestamp": 1715241375000,
     "user": {
      "displayName": "Danielle Detering US",
      "userId": "15432464718872067879"
     },
     "user_tz": 420
    },
    "id": "qWINTqKypE5J"
   },
   "outputs": [],
   "source": [
    "trans = transforms.Compose([\n",
    "    transforms.RandomResizedCrop((IMG_WIDTH, IMG_HEIGHT), scale=(.7, 1), ratio=(1, 1)),\n",
    "])"
   ]
  },
  {
   "cell_type": "markdown",
   "metadata": {},
   "source": [
    "Try running the below cell a few times. It should be different each time."
   ]
  },
  {
   "cell_type": "code",
   "execution_count": 52,
   "metadata": {
    "colab": {
     "base_uri": "https://localhost:8080/",
     "height": 447
    },
    "executionInfo": {
     "elapsed": 507,
     "status": "ok",
     "timestamp": 1715241377237,
     "user": {
      "displayName": "Danielle Detering US",
      "userId": "15432464718872067879"
     },
     "user_tz": 420
    },
    "id": "6ZugUNuJpPG2",
    "outputId": "52caec17-6a25-4484-c2f4-2aed78b5ffe8"
   },
   "outputs": [
    {
     "data": {
      "text/plain": [
       "<matplotlib.image.AxesImage at 0x3f9de8050>"
      ]
     },
     "execution_count": 52,
     "metadata": {},
     "output_type": "execute_result"
    },
    {
     "data": {
      "image/png": "[encoded data removed]",
      "text/plain": [
       "<Figure size 640x480 with 1 Axes>"
      ]
     },
     "metadata": {},
     "output_type": "display_data"
    }
   ],
   "source": [
    "new_x_0 = trans(x_0)\n",
    "image = F.to_pil_image(new_x_0)\n",
    "plt.imshow(image, cmap='gray')"
   ]
  },
  {
   "cell_type": "code",
   "execution_count": 53,
   "metadata": {
    "colab": {
     "base_uri": "https://localhost:8080/"
    },
    "executionInfo": {
     "elapsed": 333,
     "status": "ok",
     "timestamp": 1715241385987,
     "user": {
      "displayName": "Danielle Detering US",
      "userId": "15432464718872067879"
     },
     "user_tz": 420
    },
    "id": "8VQJ1vwKp4nJ",
    "outputId": "63521e3a-5a63-48c8-8823-bd60d6814b64"
   },
   "outputs": [
    {
     "data": {
      "text/plain": [
       "torch.Size([1, 28, 28])"
      ]
     },
     "execution_count": 53,
     "metadata": {},
     "output_type": "execute_result"
    }
   ],
   "source": [
    "new_x_0.shape"
   ]
  },
  {
   "cell_type": "markdown",
   "metadata": {},
   "source": [
    "### 4a.4.2 [RandomHorizontalFlip](https://pytorch.org/vision/0.9/transforms.html#torchvision.transforms.RandomHorizontalFlip)"
   ]
  },
  {
   "cell_type": "markdown",
   "metadata": {
    "id": "Yrmm_inJ3Y-j"
   },
   "source": [
    "We can also randomly flip our images [Horizontally](https://pytorch.org/vision/0.9/transforms.html#torchvision.transforms.RandomHorizontalFlip) or [Vertically](https://pytorch.org/vision/0.9/transforms.html#torchvision.transforms.RandomVerticalFlip). However, for these images, we will only flip them horizontally.\n",
    "\n",
    "Take a moment to think about why we would want to flip images horizontally, but not vertically. When you have an idea, reveal the text below."
   ]
  },
  {
   "cell_type": "markdown",
   "metadata": {
    "id": "XCLufCeF3Y-j"
   },
   "source": [
    "`# SOLUTION` Fun fact: American Sign Language can be done with either the left or right hand being dominant. However, it is unlikely to see sign language from upside down. This kind of domain-specific reasoning can help make good decisions for your own deep learning applications."
   ]
  },
  {
   "cell_type": "code",
   "execution_count": 54,
   "metadata": {},
   "outputs": [],
   "source": [
    "trans = transforms.Compose([\n",
    "    transforms.RandomHorizontalFlip()\n",
    "])"
   ]
  },
  {
   "cell_type": "markdown",
   "metadata": {},
   "source": [
    "Try running the below cell a few times. Does the image flip about half the time?"
   ]
  },
  {
   "cell_type": "code",
   "execution_count": 55,
   "metadata": {},
   "outputs": [
    {
     "data": {
      "text/plain": [
       "<matplotlib.image.AxesImage at 0x3f9d6de50>"
      ]
     },
     "execution_count": 55,
     "metadata": {},
     "output_type": "execute_result"
    },
    {
     "data": {
      "image/png": "[encoded data removed]",
      "text/plain": [
       "<Figure size 640x480 with 1 Axes>"
      ]
     },
     "metadata": {},
     "output_type": "display_data"
    }
   ],
   "source": [
    "new_x_0 = trans(x_0)\n",
    "image = F.to_pil_image(new_x_0)\n",
    "plt.imshow(image, cmap='gray')"
   ]
  },
  {
   "cell_type": "markdown",
   "metadata": {},
   "source": [
    "### 4a.4.3 [RandomRotation](https://pytorch.org/vision/0.9/transforms.html#torchvision.transforms.RandomRotation)"
   ]
  },
  {
   "cell_type": "markdown",
   "metadata": {},
   "source": [
    "We can also randomly rotate the image to add more variability. Just like with with other augmentation techniques, it's easy to accidentally go too far. With ASL, if we rotate too much, our `D`s might look like `G`s and visa versa. Because of this, let's limit it to `30` degrees."
   ]
  },
  {
   "cell_type": "code",
   "execution_count": 56,
   "metadata": {},
   "outputs": [],
   "source": [
    "trans = transforms.Compose([\n",
    "    transforms.RandomRotation(30)\n",
    "])"
   ]
  },
  {
   "cell_type": "markdown",
   "metadata": {},
   "source": [
    "When we run the cell block below, some black pixels may appear. The corners or our image disappear when we rotate, and for almost every pixel we lose, we gain an empty pixel."
   ]
  },
  {
   "cell_type": "code",
   "execution_count": 57,
   "metadata": {},
   "outputs": [
    {
     "data": {
      "text/plain": [
       "<matplotlib.image.AxesImage at 0x3f9da3c50>"
      ]
     },
     "execution_count": 57,
     "metadata": {},
     "output_type": "execute_result"
    },
    {
     "data": {
      "image/png": "[encoded data removed]",
      "text/plain": [
       "<Figure size 640x480 with 1 Axes>"
      ]
     },
     "metadata": {},
     "output_type": "display_data"
    }
   ],
   "source": [
    "new_x_0 = trans(x_0)\n",
    "image = F.to_pil_image(new_x_0)\n",
    "plt.imshow(image, cmap='gray')"
   ]
  },
  {
   "cell_type": "markdown",
   "metadata": {},
   "source": [
    "### 4a.4.3 [ColorJitter](https://pytorch.org/vision/0.9/transforms.html#torchvision.transforms.ColorJitter)"
   ]
  },
  {
   "cell_type": "markdown",
   "metadata": {},
   "source": [
    "The `ColorJitter` transform has 4 arguments:\n",
    "* [brightness](https://en.wikipedia.org/wiki/Brightness)\n",
    "* [contrast](https://en.wikipedia.org/wiki/Contrast_(vision))\n",
    "* [saturation](https://en.wikipedia.org/wiki/Colorfulness#Saturation)\n",
    "* [hue](https://en.wikipedia.org/wiki/Hue)\n",
    "\n",
    "\n",
    "The latter 2 apply to color images, so we will only use the first 2 for now."
   ]
  },
  {
   "cell_type": "code",
   "execution_count": 58,
   "metadata": {},
   "outputs": [],
   "source": [
    "brightness = .2  # Change to be from 0 to 1\n",
    "contrast = .5  # Change to be from 0 to 1\n",
    "\n",
    "trans = transforms.Compose([\n",
    "    transforms.ColorJitter(brightness=brightness, contrast=contrast)\n",
    "])"
   ]
  },
  {
   "cell_type": "markdown",
   "metadata": {},
   "source": [
    "Try running the below a few times, but also try changing either `brightness` or `contrast` to `1`. Get any intersting results?"
   ]
  },
  {
   "cell_type": "code",
   "execution_count": 59,
   "metadata": {},
   "outputs": [
    {
     "data": {
      "text/plain": [
       "<matplotlib.image.AxesImage at 0x3f9c29a90>"
      ]
     },
     "execution_count": 59,
     "metadata": {},
     "output_type": "execute_result"
    },
    {
     "data": {
      "image/png": "[encoded data removed]",
      "text/plain": [
       "<Figure size 640x480 with 1 Axes>"
      ]
     },
     "metadata": {},
     "output_type": "display_data"
    }
   ],
   "source": [
    "new_x_0 = trans(x_0)\n",
    "image = F.to_pil_image(new_x_0)\n",
    "plt.imshow(image, cmap='gray')"
   ]
  },
  {
   "cell_type": "markdown",
   "metadata": {},
   "source": [
    "### 4a.3.4 [Compose](https://pytorch.org/vision/0.9/transforms.html#torchvision.transforms.Compose)"
   ]
  },
  {
   "cell_type": "markdown",
   "metadata": {},
   "source": [
    "Time to bring it all together. We can create a sequence of these random transformations with `Compose`."
   ]
  },
  {
   "cell_type": "code",
   "execution_count": 60,
   "metadata": {
    "executionInfo": {
     "elapsed": 1,
     "status": "ok",
     "timestamp": 1715241387886,
     "user": {
      "displayName": "Danielle Detering US",
      "userId": "15432464718872067879"
     },
     "user_tz": 420
    },
    "id": "ZkXjesFKFH_b"
   },
   "outputs": [],
   "source": [
    "random_transforms = transforms.Compose([\n",
    "    transforms.RandomRotation(5),\n",
    "    transforms.RandomResizedCrop((IMG_WIDTH, IMG_HEIGHT), scale=(.9, 1), ratio=(1, 1)),\n",
    "    transforms.RandomHorizontalFlip(),\n",
    "    transforms.ColorJitter(brightness=.2, contrast=.5)\n",
    "])"
   ]
  },
  {
   "cell_type": "markdown",
   "metadata": {},
   "source": [
    "Let's test it out. With all the different combinations how many varations are there of this one image? Infinite?"
   ]
  },
  {
   "cell_type": "code",
   "execution_count": 61,
   "metadata": {
    "colab": {
     "base_uri": "https://localhost:8080/",
     "height": 447
    },
    "executionInfo": {
     "elapsed": 347,
     "status": "ok",
     "timestamp": 1715241391170,
     "user": {
      "displayName": "Danielle Detering US",
      "userId": "15432464718872067879"
     },
     "user_tz": 420
    },
    "id": "ewG_7NAgqEnf",
    "outputId": "24142f9f-286f-42ab-9769-bfd38c9defbf"
   },
   "outputs": [
    {
     "data": {
      "text/plain": [
       "<matplotlib.image.AxesImage at 0x3f9c23890>"
      ]
     },
     "execution_count": 61,
     "metadata": {},
     "output_type": "execute_result"
    },
    {
     "data": {
      "image/png": "[encoded data removed]",
      "text/plain": [
       "<Figure size 640x480 with 1 Axes>"
      ]
     },
     "metadata": {},
     "output_type": "display_data"
    }
   ],
   "source": [
    "new_x_0 = random_transforms(x_0)\n",
    "image = F.to_pil_image(new_x_0)\n",
    "plt.imshow(image, cmap='gray')"
   ]
  },
  {
   "cell_type": "markdown",
   "metadata": {},
   "source": [
    "### 4a.4 Training with Augmentation"
   ]
  },
  {
   "cell_type": "markdown",
   "metadata": {},
   "source": [
    "Our training is mostly the same, but there is one line of change. Before passing our images to our model, we will apply our `random_transforms`. For conveneince, we moved `get_batch_accuracy` to a [utils](./utils.py) file."
   ]
  },
  {
   "cell_type": "code",
   "execution_count": 62,
   "metadata": {
    "executionInfo": {
     "elapsed": 317,
     "status": "ok",
     "timestamp": 1715241479297,
     "user": {
      "displayName": "Danielle Detering US",
      "userId": "15432464718872067879"
     },
     "user_tz": 420
    },
    "id": "IcgAmvx7rI13"
   },
   "outputs": [],
   "source": [
    "def train():\n",
    "    loss = 0\n",
    "    accuracy = 0\n",
    "\n",
    "    model.train()\n",
    "    for x, y in train_loader:\n",
    "        output = model(random_transforms(x))  # Updated\n",
    "        optimizer.zero_grad()\n",
    "        batch_loss = loss_function(output, y)\n",
    "        batch_loss.backward()\n",
    "        optimizer.step()\n",
    "\n",
    "        loss += batch_loss.item()\n",
    "        accuracy += utils.get_batch_accuracy(output, y, train_N)\n",
    "    print('Train - Loss: {:.4f} Accuracy: {:.4f}'.format(loss, accuracy))"
   ]
  },
  {
   "cell_type": "markdown",
   "metadata": {},
   "source": [
    "On the other hamd, validation remains the same. There are no random transformations. "
   ]
  },
  {
   "cell_type": "code",
   "execution_count": 63,
   "metadata": {
    "executionInfo": {
     "elapsed": 382,
     "status": "ok",
     "timestamp": 1715241482250,
     "user": {
      "displayName": "Danielle Detering US",
      "userId": "15432464718872067879"
     },
     "user_tz": 420
    },
    "id": "iXc6lnRAR4qZ"
   },
   "outputs": [],
   "source": [
    "def validate():\n",
    "    loss = 0\n",
    "    accuracy = 0\n",
    "\n",
    "    model.eval()\n",
    "    with torch.no_grad():\n",
    "        for x, y in valid_loader:\n",
    "            output = model(x)\n",
    "\n",
    "            loss += loss_function(output, y).item()\n",
    "            accuracy += utils.get_batch_accuracy(output, y, valid_N)\n",
    "    print('Valid - Loss: {:.4f} Accuracy: {:.4f}'.format(loss, accuracy))"
   ]
  },
  {
   "cell_type": "markdown",
   "metadata": {},
   "source": [
    "Let's put data augmentation to the test. "
   ]
  },
  {
   "cell_type": "code",
   "execution_count": 64,
   "metadata": {
    "colab": {
     "base_uri": "https://localhost:8080/"
    },
    "executionInfo": {
     "elapsed": 45384,
     "status": "ok",
     "timestamp": 1715241529445,
     "user": {
      "displayName": "Danielle Detering US",
      "userId": "15432464718872067879"
     },
     "user_tz": 420
    },
    "id": "isjOJIVArTLR",
    "outputId": "5d4b6a5f-2ad9-4276-d65e-d84b9874ec3b"
   },
   "outputs": [
    {
     "name": "stdout",
     "output_type": "stream",
     "text": [
      "Epoch: 0\n"
     ]
    },
    {
     "name": "stderr",
     "output_type": "stream",
     "text": [
      "W0404 11:45:02.289000 54198 site-packages/torch/_dynamo/convert_frame.py:1233] WON'T CONVERT inner /opt/anaconda3/envs/cs5388-a1/lib/python3.13/site-packages/torch/_dynamo/external_utils.py line 43 \n",
      "W0404 11:45:02.289000 54198 site-packages/torch/_dynamo/convert_frame.py:1233] due to: \n",
      "W0404 11:45:02.289000 54198 site-packages/torch/_dynamo/convert_frame.py:1233] Traceback (most recent call last):\n",
      "W0404 11:45:02.289000 54198 site-packages/torch/_dynamo/convert_frame.py:1233]   File \"/opt/anaconda3/envs/cs5388-a1/lib/python3.13/site-packages/torch/_dynamo/convert_frame.py\", line 1164, in __call__\n",
      "W0404 11:45:02.289000 54198 site-packages/torch/_dynamo/convert_frame.py:1233]     result = self._inner_convert(\n",
      "W0404 11:45:02.289000 54198 site-packages/torch/_dynamo/convert_frame.py:1233]         frame, cache_entry, hooks, frame_state, skip=skip + 1\n",
      "W0404 11:45:02.289000 54198 site-packages/torch/_dynamo/convert_frame.py:1233]     )\n",
      "W0404 11:45:02.289000 54198 site-packages/torch/_dynamo/convert_frame.py:1233]   File \"/opt/anaconda3/envs/cs5388-a1/lib/python3.13/site-packages/torch/_dynamo/convert_frame.py\", line 547, in __call__\n",
      "W0404 11:45:02.289000 54198 site-packages/torch/_dynamo/convert_frame.py:1233]     return _compile(\n",
      "W0404 11:45:02.289000 54198 site-packages/torch/_dynamo/convert_frame.py:1233]         frame.f_code,\n",
      "W0404 11:45:02.289000 54198 site-packages/torch/_dynamo/convert_frame.py:1233]     ...<14 lines>...\n",
      "W0404 11:45:02.289000 54198 site-packages/torch/_dynamo/convert_frame.py:1233]         skip=skip + 1,\n",
      "W0404 11:45:02.289000 54198 site-packages/torch/_dynamo/convert_frame.py:1233]     )\n",
      "W0404 11:45:02.289000 54198 site-packages/torch/_dynamo/convert_frame.py:1233]   File \"/opt/anaconda3/envs/cs5388-a1/lib/python3.13/site-packages/torch/_dynamo/convert_frame.py\", line 986, in _compile\n",
      "W0404 11:45:02.289000 54198 site-packages/torch/_dynamo/convert_frame.py:1233]     guarded_code = compile_inner(code, one_graph, hooks, transform)\n",
      "W0404 11:45:02.289000 54198 site-packages/torch/_dynamo/convert_frame.py:1233]   File \"/opt/anaconda3/envs/cs5388-a1/lib/python3.13/site-packages/torch/_dynamo/convert_frame.py\", line 715, in compile_inner\n",
      "W0404 11:45:02.289000 54198 site-packages/torch/_dynamo/convert_frame.py:1233]     return _compile_inner(code, one_graph, hooks, transform)\n",
      "W0404 11:45:02.289000 54198 site-packages/torch/_dynamo/convert_frame.py:1233]   File \"/opt/anaconda3/envs/cs5388-a1/lib/python3.13/site-packages/torch/_utils_internal.py\", line 95, in wrapper_function\n",
      "W0404 11:45:02.289000 54198 site-packages/torch/_dynamo/convert_frame.py:1233]     return function(*args, **kwargs)\n",
      "W0404 11:45:02.289000 54198 site-packages/torch/_dynamo/convert_frame.py:1233]   File \"/opt/anaconda3/envs/cs5388-a1/lib/python3.13/site-packages/torch/_dynamo/convert_frame.py\", line 750, in _compile_inner\n",
      "W0404 11:45:02.289000 54198 site-packages/torch/_dynamo/convert_frame.py:1233]     out_code = transform_code_object(code, transform)\n",
      "W0404 11:45:02.289000 54198 site-packages/torch/_dynamo/convert_frame.py:1233]   File \"/opt/anaconda3/envs/cs5388-a1/lib/python3.13/site-packages/torch/_dynamo/bytecode_transformation.py\", line 1361, in transform_code_object\n",
      "W0404 11:45:02.289000 54198 site-packages/torch/_dynamo/convert_frame.py:1233]     transformations(instructions, code_options)\n",
      "W0404 11:45:02.289000 54198 site-packages/torch/_dynamo/convert_frame.py:1233]     ~~~~~~~~~~~~~~~^^^^^^^^^^^^^^^^^^^^^^^^^^^^\n",
      "W0404 11:45:02.289000 54198 site-packages/torch/_dynamo/convert_frame.py:1233]   File \"/opt/anaconda3/envs/cs5388-a1/lib/python3.13/site-packages/torch/_dynamo/convert_frame.py\", line 231, in _fn\n",
      "W0404 11:45:02.289000 54198 site-packages/torch/_dynamo/convert_frame.py:1233]     return fn(*args, **kwargs)\n",
      "W0404 11:45:02.289000 54198 site-packages/torch/_dynamo/convert_frame.py:1233]   File \"/opt/anaconda3/envs/cs5388-a1/lib/python3.13/site-packages/torch/_dynamo/convert_frame.py\", line 662, in transform\n",
      "W0404 11:45:02.289000 54198 site-packages/torch/_dynamo/convert_frame.py:1233]     tracer.run()\n",
      "W0404 11:45:02.289000 54198 site-packages/torch/_dynamo/convert_frame.py:1233]     ~~~~~~~~~~^^\n",
      "W0404 11:45:02.289000 54198 site-packages/torch/_dynamo/convert_frame.py:1233]   File \"/opt/anaconda3/envs/cs5388-a1/lib/python3.13/site-packages/torch/_dynamo/symbolic_convert.py\", line 2868, in run\n",
      "W0404 11:45:02.289000 54198 site-packages/torch/_dynamo/convert_frame.py:1233]     super().run()\n",
      "W0404 11:45:02.289000 54198 site-packages/torch/_dynamo/convert_frame.py:1233]     ~~~~~~~~~~~^^\n",
      "W0404 11:45:02.289000 54198 site-packages/torch/_dynamo/convert_frame.py:1233]   File \"/opt/anaconda3/envs/cs5388-a1/lib/python3.13/site-packages/torch/_dynamo/symbolic_convert.py\", line 1052, in run\n",
      "W0404 11:45:02.289000 54198 site-packages/torch/_dynamo/convert_frame.py:1233]     while self.step():\n",
      "W0404 11:45:02.289000 54198 site-packages/torch/_dynamo/convert_frame.py:1233]           ~~~~~~~~~^^\n",
      "W0404 11:45:02.289000 54198 site-packages/torch/_dynamo/convert_frame.py:1233]   File \"/opt/anaconda3/envs/cs5388-a1/lib/python3.13/site-packages/torch/_dynamo/symbolic_convert.py\", line 962, in step\n",
      "W0404 11:45:02.289000 54198 site-packages/torch/_dynamo/convert_frame.py:1233]     self.dispatch_table[inst.opcode](self, inst)\n",
      "W0404 11:45:02.289000 54198 site-packages/torch/_dynamo/convert_frame.py:1233]     ~~~~~~~~~~~~~~~~~~~~~~~~~~~~~~~~^^^^^^^^^^^^\n",
      "W0404 11:45:02.289000 54198 site-packages/torch/_dynamo/convert_frame.py:1233]   File \"/opt/anaconda3/envs/cs5388-a1/lib/python3.13/site-packages/torch/_dynamo/symbolic_convert.py\", line 3048, in RETURN_VALUE\n",
      "W0404 11:45:02.289000 54198 site-packages/torch/_dynamo/convert_frame.py:1233]     self._return(inst)\n",
      "W0404 11:45:02.289000 54198 site-packages/torch/_dynamo/convert_frame.py:1233]     ~~~~~~~~~~~~^^^^^^\n",
      "W0404 11:45:02.289000 54198 site-packages/torch/_dynamo/convert_frame.py:1233]   File \"/opt/anaconda3/envs/cs5388-a1/lib/python3.13/site-packages/torch/_dynamo/symbolic_convert.py\", line 3033, in _return\n",
      "W0404 11:45:02.289000 54198 site-packages/torch/_dynamo/convert_frame.py:1233]     self.output.compile_subgraph(\n",
      "W0404 11:45:02.289000 54198 site-packages/torch/_dynamo/convert_frame.py:1233]     ~~~~~~~~~~~~~~~~~~~~~~~~~~~~^\n",
      "W0404 11:45:02.289000 54198 site-packages/torch/_dynamo/convert_frame.py:1233]         self,\n",
      "W0404 11:45:02.289000 54198 site-packages/torch/_dynamo/convert_frame.py:1233]         ^^^^^\n",
      "W0404 11:45:02.289000 54198 site-packages/torch/_dynamo/convert_frame.py:1233]     ...<2 lines>...\n",
      "W0404 11:45:02.289000 54198 site-packages/torch/_dynamo/convert_frame.py:1233]         ),\n",
      "W0404 11:45:02.289000 54198 site-packages/torch/_dynamo/convert_frame.py:1233]         ^^\n",
      "W0404 11:45:02.289000 54198 site-packages/torch/_dynamo/convert_frame.py:1233]     )\n",
      "W0404 11:45:02.289000 54198 site-packages/torch/_dynamo/convert_frame.py:1233]     ^\n",
      "W0404 11:45:02.289000 54198 site-packages/torch/_dynamo/convert_frame.py:1233]   File \"/opt/anaconda3/envs/cs5388-a1/lib/python3.13/site-packages/torch/_dynamo/output_graph.py\", line 1101, in compile_subgraph\n",
      "W0404 11:45:02.289000 54198 site-packages/torch/_dynamo/convert_frame.py:1233]     self.compile_and_call_fx_graph(\n",
      "W0404 11:45:02.289000 54198 site-packages/torch/_dynamo/convert_frame.py:1233]     ~~~~~~~~~~~~~~~~~~~~~~~~~~~~~~^\n",
      "W0404 11:45:02.289000 54198 site-packages/torch/_dynamo/convert_frame.py:1233]         tx, list(reversed(stack_values)), root, output_replacements\n",
      "W0404 11:45:02.289000 54198 site-packages/torch/_dynamo/convert_frame.py:1233]         ^^^^^^^^^^^^^^^^^^^^^^^^^^^^^^^^^^^^^^^^^^^^^^^^^^^^^^^^^^^\n",
      "W0404 11:45:02.289000 54198 site-packages/torch/_dynamo/convert_frame.py:1233]     )\n",
      "W0404 11:45:02.289000 54198 site-packages/torch/_dynamo/convert_frame.py:1233]     ^\n",
      "W0404 11:45:02.289000 54198 site-packages/torch/_dynamo/convert_frame.py:1233]   File \"/opt/anaconda3/envs/cs5388-a1/lib/python3.13/site-packages/torch/_dynamo/output_graph.py\", line 1382, in compile_and_call_fx_graph\n",
      "W0404 11:45:02.289000 54198 site-packages/torch/_dynamo/convert_frame.py:1233]     compiled_fn = self.call_user_compiler(gm)\n",
      "W0404 11:45:02.289000 54198 site-packages/torch/_dynamo/convert_frame.py:1233]   File \"/opt/anaconda3/envs/cs5388-a1/lib/python3.13/site-packages/torch/_dynamo/output_graph.py\", line 1432, in call_user_compiler\n",
      "W0404 11:45:02.289000 54198 site-packages/torch/_dynamo/convert_frame.py:1233]     return self._call_user_compiler(gm)\n",
      "W0404 11:45:02.289000 54198 site-packages/torch/_dynamo/convert_frame.py:1233]            ~~~~~~~~~~~~~~~~~~~~~~~~^^^^\n",
      "W0404 11:45:02.289000 54198 site-packages/torch/_dynamo/convert_frame.py:1233]   File \"/opt/anaconda3/envs/cs5388-a1/lib/python3.13/site-packages/torch/_dynamo/output_graph.py\", line 1483, in _call_user_compiler\n",
      "W0404 11:45:02.289000 54198 site-packages/torch/_dynamo/convert_frame.py:1233]     raise BackendCompilerFailed(self.compiler_fn, e).with_traceback(\n",
      "W0404 11:45:02.289000 54198 site-packages/torch/_dynamo/convert_frame.py:1233]         e.__traceback__\n",
      "W0404 11:45:02.289000 54198 site-packages/torch/_dynamo/convert_frame.py:1233]     ) from None\n",
      "W0404 11:45:02.289000 54198 site-packages/torch/_dynamo/convert_frame.py:1233]   File \"/opt/anaconda3/envs/cs5388-a1/lib/python3.13/site-packages/torch/_dynamo/output_graph.py\", line 1462, in _call_user_compiler\n",
      "W0404 11:45:02.289000 54198 site-packages/torch/_dynamo/convert_frame.py:1233]     compiled_fn = compiler_fn(gm, self.example_inputs())\n",
      "W0404 11:45:02.289000 54198 site-packages/torch/_dynamo/convert_frame.py:1233]   File \"/opt/anaconda3/envs/cs5388-a1/lib/python3.13/site-packages/torch/_dynamo/repro/after_dynamo.py\", line 130, in __call__\n",
      "W0404 11:45:02.289000 54198 site-packages/torch/_dynamo/convert_frame.py:1233]     compiled_gm = compiler_fn(gm, example_inputs)\n",
      "W0404 11:45:02.289000 54198 site-packages/torch/_dynamo/convert_frame.py:1233]   File \"/opt/anaconda3/envs/cs5388-a1/lib/python3.13/site-packages/torch/__init__.py\", line 2340, in __call__\n",
      "W0404 11:45:02.289000 54198 site-packages/torch/_dynamo/convert_frame.py:1233]     return compile_fx(model_, inputs_, config_patches=self.config)\n",
      "W0404 11:45:02.289000 54198 site-packages/torch/_dynamo/convert_frame.py:1233]   File \"/opt/anaconda3/envs/cs5388-a1/lib/python3.13/site-packages/torch/_inductor/compile_fx.py\", line 1863, in compile_fx\n",
      "W0404 11:45:02.289000 54198 site-packages/torch/_dynamo/convert_frame.py:1233]     return aot_autograd(\n",
      "W0404 11:45:02.289000 54198 site-packages/torch/_dynamo/convert_frame.py:1233]            ~~~~~~~~~~~~~\n",
      "W0404 11:45:02.289000 54198 site-packages/torch/_dynamo/convert_frame.py:1233]     ...<6 lines>...\n",
      "W0404 11:45:02.289000 54198 site-packages/torch/_dynamo/convert_frame.py:1233]         cudagraphs=cudagraphs,\n",
      "W0404 11:45:02.289000 54198 site-packages/torch/_dynamo/convert_frame.py:1233]         ~~~~~~~~~~~~~~~~~~~~~~\n",
      "W0404 11:45:02.289000 54198 site-packages/torch/_dynamo/convert_frame.py:1233]     )(model_, example_inputs_)\n",
      "W0404 11:45:02.289000 54198 site-packages/torch/_dynamo/convert_frame.py:1233]     ~^^^^^^^^^^^^^^^^^^^^^^^^^\n",
      "W0404 11:45:02.289000 54198 site-packages/torch/_dynamo/convert_frame.py:1233]   File \"/opt/anaconda3/envs/cs5388-a1/lib/python3.13/site-packages/torch/_dynamo/backends/common.py\", line 83, in __call__\n",
      "W0404 11:45:02.289000 54198 site-packages/torch/_dynamo/convert_frame.py:1233]     cg = aot_module_simplified(gm, example_inputs, **self.kwargs)\n",
      "W0404 11:45:02.289000 54198 site-packages/torch/_dynamo/convert_frame.py:1233]   File \"/opt/anaconda3/envs/cs5388-a1/lib/python3.13/site-packages/torch/_functorch/aot_autograd.py\", line 1155, in aot_module_simplified\n",
      "W0404 11:45:02.289000 54198 site-packages/torch/_dynamo/convert_frame.py:1233]     compiled_fn = dispatch_and_compile()\n",
      "W0404 11:45:02.289000 54198 site-packages/torch/_dynamo/convert_frame.py:1233]   File \"/opt/anaconda3/envs/cs5388-a1/lib/python3.13/site-packages/torch/_functorch/aot_autograd.py\", line 1131, in dispatch_and_compile\n",
      "W0404 11:45:02.289000 54198 site-packages/torch/_dynamo/convert_frame.py:1233]     compiled_fn, _ = create_aot_dispatcher_function(\n",
      "W0404 11:45:02.289000 54198 site-packages/torch/_dynamo/convert_frame.py:1233]                      ~~~~~~~~~~~~~~~~~~~~~~~~~~~~~~^\n",
      "W0404 11:45:02.289000 54198 site-packages/torch/_dynamo/convert_frame.py:1233]         functional_call,\n",
      "W0404 11:45:02.289000 54198 site-packages/torch/_dynamo/convert_frame.py:1233]         ^^^^^^^^^^^^^^^^\n",
      "W0404 11:45:02.289000 54198 site-packages/torch/_dynamo/convert_frame.py:1233]     ...<3 lines>...\n",
      "W0404 11:45:02.289000 54198 site-packages/torch/_dynamo/convert_frame.py:1233]         shape_env,\n",
      "W0404 11:45:02.289000 54198 site-packages/torch/_dynamo/convert_frame.py:1233]         ^^^^^^^^^^\n",
      "W0404 11:45:02.289000 54198 site-packages/torch/_dynamo/convert_frame.py:1233]     )\n",
      "W0404 11:45:02.289000 54198 site-packages/torch/_dynamo/convert_frame.py:1233]     ^\n",
      "W0404 11:45:02.289000 54198 site-packages/torch/_dynamo/convert_frame.py:1233]   File \"/opt/anaconda3/envs/cs5388-a1/lib/python3.13/site-packages/torch/_functorch/aot_autograd.py\", line 580, in create_aot_dispatcher_function\n",
      "W0404 11:45:02.289000 54198 site-packages/torch/_dynamo/convert_frame.py:1233]     return _create_aot_dispatcher_function(\n",
      "W0404 11:45:02.289000 54198 site-packages/torch/_dynamo/convert_frame.py:1233]         flat_fn, fake_flat_args, aot_config, fake_mode, shape_env\n",
      "W0404 11:45:02.289000 54198 site-packages/torch/_dynamo/convert_frame.py:1233]     )\n",
      "W0404 11:45:02.289000 54198 site-packages/torch/_dynamo/convert_frame.py:1233]   File \"/opt/anaconda3/envs/cs5388-a1/lib/python3.13/site-packages/torch/_functorch/aot_autograd.py\", line 830, in _create_aot_dispatcher_function\n",
      "W0404 11:45:02.289000 54198 site-packages/torch/_dynamo/convert_frame.py:1233]     compiled_fn, fw_metadata = compiler_fn(\n",
      "W0404 11:45:02.289000 54198 site-packages/torch/_dynamo/convert_frame.py:1233]                                ~~~~~~~~~~~^\n",
      "W0404 11:45:02.289000 54198 site-packages/torch/_dynamo/convert_frame.py:1233]         flat_fn,\n",
      "W0404 11:45:02.289000 54198 site-packages/torch/_dynamo/convert_frame.py:1233]         ^^^^^^^^\n",
      "W0404 11:45:02.289000 54198 site-packages/torch/_dynamo/convert_frame.py:1233]     ...<2 lines>...\n",
      "W0404 11:45:02.289000 54198 site-packages/torch/_dynamo/convert_frame.py:1233]         fw_metadata=fw_metadata,\n",
      "W0404 11:45:02.289000 54198 site-packages/torch/_dynamo/convert_frame.py:1233]         ^^^^^^^^^^^^^^^^^^^^^^^^\n",
      "W0404 11:45:02.289000 54198 site-packages/torch/_dynamo/convert_frame.py:1233]     )\n",
      "W0404 11:45:02.289000 54198 site-packages/torch/_dynamo/convert_frame.py:1233]     ^\n",
      "W0404 11:45:02.289000 54198 site-packages/torch/_dynamo/convert_frame.py:1233]   File \"/opt/anaconda3/envs/cs5388-a1/lib/python3.13/site-packages/torch/_functorch/_aot_autograd/jit_compile_runtime_wrappers.py\", line 678, in aot_dispatch_autograd\n",
      "W0404 11:45:02.289000 54198 site-packages/torch/_dynamo/convert_frame.py:1233]     compiled_fw_func = aot_config.fw_compiler(fw_module, adjusted_flat_args)\n",
      "W0404 11:45:02.289000 54198 site-packages/torch/_dynamo/convert_frame.py:1233]   File \"/opt/anaconda3/envs/cs5388-a1/lib/python3.13/site-packages/torch/_functorch/aot_autograd.py\", line 489, in __call__\n",
      "W0404 11:45:02.289000 54198 site-packages/torch/_dynamo/convert_frame.py:1233]     return self.compiler_fn(gm, example_inputs)\n",
      "W0404 11:45:02.289000 54198 site-packages/torch/_dynamo/convert_frame.py:1233]            ~~~~~~~~~~~~~~~~^^^^^^^^^^^^^^^^^^^^\n",
      "W0404 11:45:02.289000 54198 site-packages/torch/_dynamo/convert_frame.py:1233]   File \"/opt/anaconda3/envs/cs5388-a1/lib/python3.13/site-packages/torch/_inductor/compile_fx.py\", line 1741, in fw_compiler_base\n",
      "W0404 11:45:02.289000 54198 site-packages/torch/_dynamo/convert_frame.py:1233]     return inner_compile(\n",
      "W0404 11:45:02.289000 54198 site-packages/torch/_dynamo/convert_frame.py:1233]         gm,\n",
      "W0404 11:45:02.289000 54198 site-packages/torch/_dynamo/convert_frame.py:1233]     ...<5 lines>...\n",
      "W0404 11:45:02.289000 54198 site-packages/torch/_dynamo/convert_frame.py:1233]         boxed_forward_device_index=forward_device,\n",
      "W0404 11:45:02.289000 54198 site-packages/torch/_dynamo/convert_frame.py:1233]     )\n",
      "W0404 11:45:02.289000 54198 site-packages/torch/_dynamo/convert_frame.py:1233]   File \"/opt/anaconda3/envs/cs5388-a1/lib/python3.13/site-packages/torch/_inductor/compile_fx.py\", line 569, in compile_fx_inner\n",
      "W0404 11:45:02.289000 54198 site-packages/torch/_dynamo/convert_frame.py:1233]     return wrap_compiler_debug(_compile_fx_inner, compiler_name=\"inductor\")(\n",
      "W0404 11:45:02.289000 54198 site-packages/torch/_dynamo/convert_frame.py:1233]            ~~~~~~~~~~~~~~~~~~~~~~~~~~~~~~~~~~~~~~~~~~~~~~~~~~~~~~~~~~~~~~~~^\n",
      "W0404 11:45:02.289000 54198 site-packages/torch/_dynamo/convert_frame.py:1233]         gm,\n",
      "W0404 11:45:02.289000 54198 site-packages/torch/_dynamo/convert_frame.py:1233]         ^^^\n",
      "W0404 11:45:02.289000 54198 site-packages/torch/_dynamo/convert_frame.py:1233]         example_inputs,\n",
      "W0404 11:45:02.289000 54198 site-packages/torch/_dynamo/convert_frame.py:1233]         ^^^^^^^^^^^^^^^\n",
      "W0404 11:45:02.289000 54198 site-packages/torch/_dynamo/convert_frame.py:1233]         **kwargs,\n",
      "W0404 11:45:02.289000 54198 site-packages/torch/_dynamo/convert_frame.py:1233]         ^^^^^^^^^\n",
      "W0404 11:45:02.289000 54198 site-packages/torch/_dynamo/convert_frame.py:1233]     )\n",
      "W0404 11:45:02.289000 54198 site-packages/torch/_dynamo/convert_frame.py:1233]     ^\n",
      "W0404 11:45:02.289000 54198 site-packages/torch/_dynamo/convert_frame.py:1233]   File \"/opt/anaconda3/envs/cs5388-a1/lib/python3.13/site-packages/torch/_dynamo/repro/after_aot.py\", line 102, in debug_wrapper\n",
      "W0404 11:45:02.289000 54198 site-packages/torch/_dynamo/convert_frame.py:1233]     inner_compiled_fn = compiler_fn(gm, example_inputs)\n",
      "W0404 11:45:02.289000 54198 site-packages/torch/_dynamo/convert_frame.py:1233]   File \"/opt/anaconda3/envs/cs5388-a1/lib/python3.13/site-packages/torch/_inductor/compile_fx.py\", line 685, in _compile_fx_inner\n",
      "W0404 11:45:02.289000 54198 site-packages/torch/_dynamo/convert_frame.py:1233]     mb_compiled_graph = fx_codegen_and_compile(\n",
      "W0404 11:45:02.289000 54198 site-packages/torch/_dynamo/convert_frame.py:1233]         gm, example_inputs, inputs_to_check, **graph_kwargs\n",
      "W0404 11:45:02.289000 54198 site-packages/torch/_dynamo/convert_frame.py:1233]     )\n",
      "W0404 11:45:02.289000 54198 site-packages/torch/_dynamo/convert_frame.py:1233]   File \"/opt/anaconda3/envs/cs5388-a1/lib/python3.13/site-packages/torch/_inductor/compile_fx.py\", line 1129, in fx_codegen_and_compile\n",
      "W0404 11:45:02.289000 54198 site-packages/torch/_dynamo/convert_frame.py:1233]     return scheme.codegen_and_compile(gm, example_inputs, inputs_to_check, graph_kwargs)\n",
      "W0404 11:45:02.289000 54198 site-packages/torch/_dynamo/convert_frame.py:1233]            ~~~~~~~~~~~~~~~~~~~~~~~~~~^^^^^^^^^^^^^^^^^^^^^^^^^^^^^^^^^^^^^^^^^^^^^^^^^^^\n",
      "W0404 11:45:02.289000 54198 site-packages/torch/_dynamo/convert_frame.py:1233]   File \"/opt/anaconda3/envs/cs5388-a1/lib/python3.13/site-packages/torch/_inductor/compile_fx.py\", line 1044, in codegen_and_compile\n",
      "W0404 11:45:02.289000 54198 site-packages/torch/_dynamo/convert_frame.py:1233]     compiled_fn = graph.compile_to_module().call\n",
      "W0404 11:45:02.289000 54198 site-packages/torch/_dynamo/convert_frame.py:1233]                   ~~~~~~~~~~~~~~~~~~~~~~~^^\n",
      "W0404 11:45:02.289000 54198 site-packages/torch/_dynamo/convert_frame.py:1233]   File \"/opt/anaconda3/envs/cs5388-a1/lib/python3.13/site-packages/torch/_inductor/graph.py\", line 2027, in compile_to_module\n",
      "W0404 11:45:02.289000 54198 site-packages/torch/_dynamo/convert_frame.py:1233]     return self._compile_to_module()\n",
      "W0404 11:45:02.289000 54198 site-packages/torch/_dynamo/convert_frame.py:1233]            ~~~~~~~~~~~~~~~~~~~~~~~^^\n",
      "W0404 11:45:02.289000 54198 site-packages/torch/_dynamo/convert_frame.py:1233]   File \"/opt/anaconda3/envs/cs5388-a1/lib/python3.13/site-packages/torch/_inductor/graph.py\", line 2033, in _compile_to_module\n",
      "W0404 11:45:02.289000 54198 site-packages/torch/_dynamo/convert_frame.py:1233]     self.codegen_with_cpp_wrapper() if self.cpp_wrapper else self.codegen()\n",
      "W0404 11:45:02.289000 54198 site-packages/torch/_dynamo/convert_frame.py:1233]                                                              ~~~~~~~~~~~~^^\n",
      "W0404 11:45:02.289000 54198 site-packages/torch/_dynamo/convert_frame.py:1233]   File \"/opt/anaconda3/envs/cs5388-a1/lib/python3.13/site-packages/torch/_inductor/graph.py\", line 1968, in codegen\n",
      "W0404 11:45:02.289000 54198 site-packages/torch/_dynamo/convert_frame.py:1233]     self.scheduler.codegen()\n",
      "W0404 11:45:02.289000 54198 site-packages/torch/_dynamo/convert_frame.py:1233]     ~~~~~~~~~~~~~~~~~~~~~~^^\n",
      "W0404 11:45:02.289000 54198 site-packages/torch/_dynamo/convert_frame.py:1233]   File \"/opt/anaconda3/envs/cs5388-a1/lib/python3.13/site-packages/torch/_inductor/scheduler.py\", line 3477, in codegen\n",
      "W0404 11:45:02.289000 54198 site-packages/torch/_dynamo/convert_frame.py:1233]     return self._codegen()\n",
      "W0404 11:45:02.289000 54198 site-packages/torch/_dynamo/convert_frame.py:1233]            ~~~~~~~~~~~~~^^\n",
      "W0404 11:45:02.289000 54198 site-packages/torch/_dynamo/convert_frame.py:1233]   File \"/opt/anaconda3/envs/cs5388-a1/lib/python3.13/site-packages/torch/_inductor/scheduler.py\", line 3554, in _codegen\n",
      "W0404 11:45:02.289000 54198 site-packages/torch/_dynamo/convert_frame.py:1233]     self.get_backend(device).codegen_node(node)\n",
      "W0404 11:45:02.289000 54198 site-packages/torch/_dynamo/convert_frame.py:1233]     ~~~~~~~~~~~~~~~~~~~~~~~~~~~~~~~~~~~~~^^^^^^\n",
      "W0404 11:45:02.289000 54198 site-packages/torch/_dynamo/convert_frame.py:1233]   File \"/opt/anaconda3/envs/cs5388-a1/lib/python3.13/site-packages/torch/_inductor/codegen/cpp.py\", line 4782, in codegen_node\n",
      "W0404 11:45:02.289000 54198 site-packages/torch/_dynamo/convert_frame.py:1233]     cpp_kernel_proxy.codegen_nodes(nodes)\n",
      "W0404 11:45:02.289000 54198 site-packages/torch/_dynamo/convert_frame.py:1233]     ~~~~~~~~~~~~~~~~~~~~~~~~~~~~~~^^^^^^^\n",
      "W0404 11:45:02.289000 54198 site-packages/torch/_dynamo/convert_frame.py:1233]   File \"/opt/anaconda3/envs/cs5388-a1/lib/python3.13/site-packages/torch/_inductor/codegen/cpp.py\", line 4044, in codegen_nodes\n",
      "W0404 11:45:02.289000 54198 site-packages/torch/_dynamo/convert_frame.py:1233]     self.codegen_functions(fn_list, var_sizes_list)\n",
      "W0404 11:45:02.289000 54198 site-packages/torch/_dynamo/convert_frame.py:1233]     ~~~~~~~~~~~~~~~~~~~~~~^^^^^^^^^^^^^^^^^^^^^^^^^\n",
      "W0404 11:45:02.289000 54198 site-packages/torch/_dynamo/convert_frame.py:1233]   File \"/opt/anaconda3/envs/cs5388-a1/lib/python3.13/site-packages/torch/_inductor/codegen/cpp.py\", line 3862, in codegen_functions\n",
      "W0404 11:45:02.289000 54198 site-packages/torch/_dynamo/convert_frame.py:1233]     self.loop_nest = LoopNest.build(scalar_kernel)\n",
      "W0404 11:45:02.289000 54198 site-packages/torch/_dynamo/convert_frame.py:1233]                      ~~~~~~~~~~~~~~^^^^^^^^^^^^^^^\n",
      "W0404 11:45:02.289000 54198 site-packages/torch/_dynamo/convert_frame.py:1233]   File \"/opt/anaconda3/envs/cs5388-a1/lib/python3.13/site-packages/torch/_inductor/codegen/cpp.py\", line 5124, in build\n",
      "W0404 11:45:02.289000 54198 site-packages/torch/_dynamo/convert_frame.py:1233]     loop = LoopLevel(var, size)\n",
      "W0404 11:45:02.289000 54198 site-packages/torch/_dynamo/convert_frame.py:1233]   File \"<string>\", line 13, in __init__\n",
      "W0404 11:45:02.289000 54198 site-packages/torch/_dynamo/convert_frame.py:1233]   File \"/opt/anaconda3/envs/cs5388-a1/lib/python3.13/site-packages/torch/_inductor/codegen/cpp.py\", line 5045, in __post_init__\n",
      "W0404 11:45:02.289000 54198 site-packages/torch/_dynamo/convert_frame.py:1233]     self.simd_nelements: int = picked_vec_isa.nelements() if picked_vec_isa else 0\n",
      "W0404 11:45:02.289000 54198 site-packages/torch/_dynamo/convert_frame.py:1233]                                                              ^^^^^^^^^^^^^^\n",
      "W0404 11:45:02.289000 54198 site-packages/torch/_dynamo/convert_frame.py:1233]   File \"/opt/anaconda3/envs/cs5388-a1/lib/python3.13/site-packages/torch/_inductor/cpu_vec_isa.py\", line 142, in __bool__\n",
      "W0404 11:45:02.289000 54198 site-packages/torch/_dynamo/convert_frame.py:1233]     return self.__bool__impl(config.cpp.vec_isa_ok)\n",
      "W0404 11:45:02.289000 54198 site-packages/torch/_dynamo/convert_frame.py:1233]            ~~~~~~~~~~~~~~~~~^^^^^^^^^^^^^^^^^^^^^^^\n",
      "W0404 11:45:02.289000 54198 site-packages/torch/_dynamo/convert_frame.py:1233]   File \"/opt/anaconda3/envs/cs5388-a1/lib/python3.13/site-packages/torch/_inductor/cpu_vec_isa.py\", line 152, in __bool__impl\n",
      "W0404 11:45:02.289000 54198 site-packages/torch/_dynamo/convert_frame.py:1233]     return self.check_build(VecISA._avx_code)\n",
      "W0404 11:45:02.289000 54198 site-packages/torch/_dynamo/convert_frame.py:1233]            ~~~~~~~~~~~~~~~~^^^^^^^^^^^^^^^^^^\n",
      "W0404 11:45:02.289000 54198 site-packages/torch/_dynamo/convert_frame.py:1233]   File \"/opt/anaconda3/envs/cs5388-a1/lib/python3.13/site-packages/torch/_inductor/cpu_vec_isa.py\", line 102, in check_build\n",
      "W0404 11:45:02.289000 54198 site-packages/torch/_dynamo/convert_frame.py:1233]     extra=_get_isa_dry_compile_fingerprint(self._arch_flags),\n",
      "W0404 11:45:02.289000 54198 site-packages/torch/_dynamo/convert_frame.py:1233]           ~~~~~~~~~~~~~~~~~~~~~~~~~~~~~~~~^^^^^^^^^^^^^^^^^^\n",
      "W0404 11:45:02.289000 54198 site-packages/torch/_dynamo/convert_frame.py:1233]   File \"/opt/anaconda3/envs/cs5388-a1/lib/python3.13/site-packages/torch/_inductor/cpu_vec_isa.py\", line 28, in _get_isa_dry_compile_fingerprint\n",
      "W0404 11:45:02.289000 54198 site-packages/torch/_dynamo/convert_frame.py:1233]     compiler_info = get_compiler_version_info(get_cpp_compiler())\n",
      "W0404 11:45:02.289000 54198 site-packages/torch/_dynamo/convert_frame.py:1233]                                               ~~~~~~~~~~~~~~~~^^\n",
      "W0404 11:45:02.289000 54198 site-packages/torch/_dynamo/convert_frame.py:1233]   File \"/opt/anaconda3/envs/cs5388-a1/lib/python3.13/site-packages/torch/_inductor/cpp_builder.py\", line 152, in get_cpp_compiler\n",
      "W0404 11:45:02.289000 54198 site-packages/torch/_dynamo/convert_frame.py:1233]     compiler = cpp_compiler_search(search)\n",
      "W0404 11:45:02.289000 54198 site-packages/torch/_dynamo/convert_frame.py:1233]   File \"/opt/anaconda3/envs/cs5388-a1/lib/python3.13/site-packages/torch/_inductor/cpp_builder.py\", line 94, in cpp_compiler_search\n",
      "W0404 11:45:02.289000 54198 site-packages/torch/_dynamo/convert_frame.py:1233]     raise exc.InvalidCxxCompiler\n",
      "W0404 11:45:02.289000 54198 site-packages/torch/_dynamo/convert_frame.py:1233] torch._dynamo.exc.BackendCompilerFailed: backend='inductor' raised:\n",
      "W0404 11:45:02.289000 54198 site-packages/torch/_dynamo/convert_frame.py:1233] InvalidCxxCompiler: No working C++ compiler found in torch._inductor.config.cpp.cxx: (None, 'arm64-apple-darwin20.0.0-clang++')\n",
      "W0404 11:45:02.289000 54198 site-packages/torch/_dynamo/convert_frame.py:1233] \n",
      "W0404 11:45:02.289000 54198 site-packages/torch/_dynamo/convert_frame.py:1233] Set TORCH_LOGS=\"+dynamo\" and TORCHDYNAMO_VERBOSE=1 for more information\n",
      "W0404 11:45:02.289000 54198 site-packages/torch/_dynamo/convert_frame.py:1233] \n",
      "W0404 11:45:02.289000 54198 site-packages/torch/_dynamo/convert_frame.py:1233] Traceback (most recent call last):\n",
      "W0404 11:45:02.289000 54198 site-packages/torch/_dynamo/convert_frame.py:1233]   File \"/opt/anaconda3/envs/cs5388-a1/lib/python3.13/site-packages/torch/_dynamo/convert_frame.py\", line 1164, in __call__\n",
      "W0404 11:45:02.289000 54198 site-packages/torch/_dynamo/convert_frame.py:1233]     result = self._inner_convert(\n",
      "W0404 11:45:02.289000 54198 site-packages/torch/_dynamo/convert_frame.py:1233]         frame, cache_entry, hooks, frame_state, skip=skip + 1\n",
      "W0404 11:45:02.289000 54198 site-packages/torch/_dynamo/convert_frame.py:1233]     )\n",
      "W0404 11:45:02.289000 54198 site-packages/torch/_dynamo/convert_frame.py:1233]   File \"/opt/anaconda3/envs/cs5388-a1/lib/python3.13/site-packages/torch/_dynamo/convert_frame.py\", line 547, in __call__\n",
      "W0404 11:45:02.289000 54198 site-packages/torch/_dynamo/convert_frame.py:1233]     return _compile(\n",
      "W0404 11:45:02.289000 54198 site-packages/torch/_dynamo/convert_frame.py:1233]         frame.f_code,\n",
      "W0404 11:45:02.289000 54198 site-packages/torch/_dynamo/convert_frame.py:1233]     ...<14 lines>...\n",
      "W0404 11:45:02.289000 54198 site-packages/torch/_dynamo/convert_frame.py:1233]         skip=skip + 1,\n",
      "W0404 11:45:02.289000 54198 site-packages/torch/_dynamo/convert_frame.py:1233]     )\n",
      "W0404 11:45:02.289000 54198 site-packages/torch/_dynamo/convert_frame.py:1233]   File \"/opt/anaconda3/envs/cs5388-a1/lib/python3.13/site-packages/torch/_dynamo/convert_frame.py\", line 986, in _compile\n",
      "W0404 11:45:02.289000 54198 site-packages/torch/_dynamo/convert_frame.py:1233]     guarded_code = compile_inner(code, one_graph, hooks, transform)\n",
      "W0404 11:45:02.289000 54198 site-packages/torch/_dynamo/convert_frame.py:1233]   File \"/opt/anaconda3/envs/cs5388-a1/lib/python3.13/site-packages/torch/_dynamo/convert_frame.py\", line 715, in compile_inner\n",
      "W0404 11:45:02.289000 54198 site-packages/torch/_dynamo/convert_frame.py:1233]     return _compile_inner(code, one_graph, hooks, transform)\n",
      "W0404 11:45:02.289000 54198 site-packages/torch/_dynamo/convert_frame.py:1233]   File \"/opt/anaconda3/envs/cs5388-a1/lib/python3.13/site-packages/torch/_utils_internal.py\", line 95, in wrapper_function\n",
      "W0404 11:45:02.289000 54198 site-packages/torch/_dynamo/convert_frame.py:1233]     return function(*args, **kwargs)\n",
      "W0404 11:45:02.289000 54198 site-packages/torch/_dynamo/convert_frame.py:1233]   File \"/opt/anaconda3/envs/cs5388-a1/lib/python3.13/site-packages/torch/_dynamo/convert_frame.py\", line 750, in _compile_inner\n",
      "W0404 11:45:02.289000 54198 site-packages/torch/_dynamo/convert_frame.py:1233]     out_code = transform_code_object(code, transform)\n",
      "W0404 11:45:02.289000 54198 site-packages/torch/_dynamo/convert_frame.py:1233]   File \"/opt/anaconda3/envs/cs5388-a1/lib/python3.13/site-packages/torch/_dynamo/bytecode_transformation.py\", line 1361, in transform_code_object\n",
      "W0404 11:45:02.289000 54198 site-packages/torch/_dynamo/convert_frame.py:1233]     transformations(instructions, code_options)\n",
      "W0404 11:45:02.289000 54198 site-packages/torch/_dynamo/convert_frame.py:1233]     ~~~~~~~~~~~~~~~^^^^^^^^^^^^^^^^^^^^^^^^^^^^\n",
      "W0404 11:45:02.289000 54198 site-packages/torch/_dynamo/convert_frame.py:1233]   File \"/opt/anaconda3/envs/cs5388-a1/lib/python3.13/site-packages/torch/_dynamo/convert_frame.py\", line 231, in _fn\n",
      "W0404 11:45:02.289000 54198 site-packages/torch/_dynamo/convert_frame.py:1233]     return fn(*args, **kwargs)\n",
      "W0404 11:45:02.289000 54198 site-packages/torch/_dynamo/convert_frame.py:1233]   File \"/opt/anaconda3/envs/cs5388-a1/lib/python3.13/site-packages/torch/_dynamo/convert_frame.py\", line 662, in transform\n",
      "W0404 11:45:02.289000 54198 site-packages/torch/_dynamo/convert_frame.py:1233]     tracer.run()\n",
      "W0404 11:45:02.289000 54198 site-packages/torch/_dynamo/convert_frame.py:1233]     ~~~~~~~~~~^^\n",
      "W0404 11:45:02.289000 54198 site-packages/torch/_dynamo/convert_frame.py:1233]   File \"/opt/anaconda3/envs/cs5388-a1/lib/python3.13/site-packages/torch/_dynamo/symbolic_convert.py\", line 2868, in run\n",
      "W0404 11:45:02.289000 54198 site-packages/torch/_dynamo/convert_frame.py:1233]     super().run()\n",
      "W0404 11:45:02.289000 54198 site-packages/torch/_dynamo/convert_frame.py:1233]     ~~~~~~~~~~~^^\n",
      "W0404 11:45:02.289000 54198 site-packages/torch/_dynamo/convert_frame.py:1233]   File \"/opt/anaconda3/envs/cs5388-a1/lib/python3.13/site-packages/torch/_dynamo/symbolic_convert.py\", line 1052, in run\n",
      "W0404 11:45:02.289000 54198 site-packages/torch/_dynamo/convert_frame.py:1233]     while self.step():\n",
      "W0404 11:45:02.289000 54198 site-packages/torch/_dynamo/convert_frame.py:1233]           ~~~~~~~~~^^\n",
      "W0404 11:45:02.289000 54198 site-packages/torch/_dynamo/convert_frame.py:1233]   File \"/opt/anaconda3/envs/cs5388-a1/lib/python3.13/site-packages/torch/_dynamo/symbolic_convert.py\", line 962, in step\n",
      "W0404 11:45:02.289000 54198 site-packages/torch/_dynamo/convert_frame.py:1233]     self.dispatch_table[inst.opcode](self, inst)\n",
      "W0404 11:45:02.289000 54198 site-packages/torch/_dynamo/convert_frame.py:1233]     ~~~~~~~~~~~~~~~~~~~~~~~~~~~~~~~~^^^^^^^^^^^^\n",
      "W0404 11:45:02.289000 54198 site-packages/torch/_dynamo/convert_frame.py:1233]   File \"/opt/anaconda3/envs/cs5388-a1/lib/python3.13/site-packages/torch/_dynamo/symbolic_convert.py\", line 3048, in RETURN_VALUE\n",
      "W0404 11:45:02.289000 54198 site-packages/torch/_dynamo/convert_frame.py:1233]     self._return(inst)\n",
      "W0404 11:45:02.289000 54198 site-packages/torch/_dynamo/convert_frame.py:1233]     ~~~~~~~~~~~~^^^^^^\n",
      "W0404 11:45:02.289000 54198 site-packages/torch/_dynamo/convert_frame.py:1233]   File \"/opt/anaconda3/envs/cs5388-a1/lib/python3.13/site-packages/torch/_dynamo/symbolic_convert.py\", line 3033, in _return\n",
      "W0404 11:45:02.289000 54198 site-packages/torch/_dynamo/convert_frame.py:1233]     self.output.compile_subgraph(\n",
      "W0404 11:45:02.289000 54198 site-packages/torch/_dynamo/convert_frame.py:1233]     ~~~~~~~~~~~~~~~~~~~~~~~~~~~~^\n",
      "W0404 11:45:02.289000 54198 site-packages/torch/_dynamo/convert_frame.py:1233]         self,\n",
      "W0404 11:45:02.289000 54198 site-packages/torch/_dynamo/convert_frame.py:1233]         ^^^^^\n",
      "W0404 11:45:02.289000 54198 site-packages/torch/_dynamo/convert_frame.py:1233]     ...<2 lines>...\n",
      "W0404 11:45:02.289000 54198 site-packages/torch/_dynamo/convert_frame.py:1233]         ),\n",
      "W0404 11:45:02.289000 54198 site-packages/torch/_dynamo/convert_frame.py:1233]         ^^\n",
      "W0404 11:45:02.289000 54198 site-packages/torch/_dynamo/convert_frame.py:1233]     )\n",
      "W0404 11:45:02.289000 54198 site-packages/torch/_dynamo/convert_frame.py:1233]     ^\n",
      "W0404 11:45:02.289000 54198 site-packages/torch/_dynamo/convert_frame.py:1233]   File \"/opt/anaconda3/envs/cs5388-a1/lib/python3.13/site-packages/torch/_dynamo/output_graph.py\", line 1101, in compile_subgraph\n",
      "W0404 11:45:02.289000 54198 site-packages/torch/_dynamo/convert_frame.py:1233]     self.compile_and_call_fx_graph(\n",
      "W0404 11:45:02.289000 54198 site-packages/torch/_dynamo/convert_frame.py:1233]     ~~~~~~~~~~~~~~~~~~~~~~~~~~~~~~^\n",
      "W0404 11:45:02.289000 54198 site-packages/torch/_dynamo/convert_frame.py:1233]         tx, list(reversed(stack_values)), root, output_replacements\n",
      "W0404 11:45:02.289000 54198 site-packages/torch/_dynamo/convert_frame.py:1233]         ^^^^^^^^^^^^^^^^^^^^^^^^^^^^^^^^^^^^^^^^^^^^^^^^^^^^^^^^^^^\n",
      "W0404 11:45:02.289000 54198 site-packages/torch/_dynamo/convert_frame.py:1233]     )\n",
      "W0404 11:45:02.289000 54198 site-packages/torch/_dynamo/convert_frame.py:1233]     ^\n",
      "W0404 11:45:02.289000 54198 site-packages/torch/_dynamo/convert_frame.py:1233]   File \"/opt/anaconda3/envs/cs5388-a1/lib/python3.13/site-packages/torch/_dynamo/output_graph.py\", line 1382, in compile_and_call_fx_graph\n",
      "W0404 11:45:02.289000 54198 site-packages/torch/_dynamo/convert_frame.py:1233]     compiled_fn = self.call_user_compiler(gm)\n",
      "W0404 11:45:02.289000 54198 site-packages/torch/_dynamo/convert_frame.py:1233]   File \"/opt/anaconda3/envs/cs5388-a1/lib/python3.13/site-packages/torch/_dynamo/output_graph.py\", line 1432, in call_user_compiler\n",
      "W0404 11:45:02.289000 54198 site-packages/torch/_dynamo/convert_frame.py:1233]     return self._call_user_compiler(gm)\n",
      "W0404 11:45:02.289000 54198 site-packages/torch/_dynamo/convert_frame.py:1233]            ~~~~~~~~~~~~~~~~~~~~~~~~^^^^\n",
      "W0404 11:45:02.289000 54198 site-packages/torch/_dynamo/convert_frame.py:1233]   File \"/opt/anaconda3/envs/cs5388-a1/lib/python3.13/site-packages/torch/_dynamo/output_graph.py\", line 1483, in _call_user_compiler\n",
      "W0404 11:45:02.289000 54198 site-packages/torch/_dynamo/convert_frame.py:1233]     raise BackendCompilerFailed(self.compiler_fn, e).with_traceback(\n",
      "W0404 11:45:02.289000 54198 site-packages/torch/_dynamo/convert_frame.py:1233]         e.__traceback__\n",
      "W0404 11:45:02.289000 54198 site-packages/torch/_dynamo/convert_frame.py:1233]     ) from None\n",
      "W0404 11:45:02.289000 54198 site-packages/torch/_dynamo/convert_frame.py:1233]   File \"/opt/anaconda3/envs/cs5388-a1/lib/python3.13/site-packages/torch/_dynamo/output_graph.py\", line 1462, in _call_user_compiler\n",
      "W0404 11:45:02.289000 54198 site-packages/torch/_dynamo/convert_frame.py:1233]     compiled_fn = compiler_fn(gm, self.example_inputs())\n",
      "W0404 11:45:02.289000 54198 site-packages/torch/_dynamo/convert_frame.py:1233]   File \"/opt/anaconda3/envs/cs5388-a1/lib/python3.13/site-packages/torch/_dynamo/repro/after_dynamo.py\", line 130, in __call__\n",
      "W0404 11:45:02.289000 54198 site-packages/torch/_dynamo/convert_frame.py:1233]     compiled_gm = compiler_fn(gm, example_inputs)\n",
      "W0404 11:45:02.289000 54198 site-packages/torch/_dynamo/convert_frame.py:1233]   File \"/opt/anaconda3/envs/cs5388-a1/lib/python3.13/site-packages/torch/__init__.py\", line 2340, in __call__\n",
      "W0404 11:45:02.289000 54198 site-packages/torch/_dynamo/convert_frame.py:1233]     return compile_fx(model_, inputs_, config_patches=self.config)\n",
      "W0404 11:45:02.289000 54198 site-packages/torch/_dynamo/convert_frame.py:1233]   File \"/opt/anaconda3/envs/cs5388-a1/lib/python3.13/site-packages/torch/_inductor/compile_fx.py\", line 1863, in compile_fx\n",
      "W0404 11:45:02.289000 54198 site-packages/torch/_dynamo/convert_frame.py:1233]     return aot_autograd(\n",
      "W0404 11:45:02.289000 54198 site-packages/torch/_dynamo/convert_frame.py:1233]            ~~~~~~~~~~~~~\n",
      "W0404 11:45:02.289000 54198 site-packages/torch/_dynamo/convert_frame.py:1233]     ...<6 lines>...\n",
      "W0404 11:45:02.289000 54198 site-packages/torch/_dynamo/convert_frame.py:1233]         cudagraphs=cudagraphs,\n",
      "W0404 11:45:02.289000 54198 site-packages/torch/_dynamo/convert_frame.py:1233]         ~~~~~~~~~~~~~~~~~~~~~~\n",
      "W0404 11:45:02.289000 54198 site-packages/torch/_dynamo/convert_frame.py:1233]     )(model_, example_inputs_)\n",
      "W0404 11:45:02.289000 54198 site-packages/torch/_dynamo/convert_frame.py:1233]     ~^^^^^^^^^^^^^^^^^^^^^^^^^\n",
      "W0404 11:45:02.289000 54198 site-packages/torch/_dynamo/convert_frame.py:1233]   File \"/opt/anaconda3/envs/cs5388-a1/lib/python3.13/site-packages/torch/_dynamo/backends/common.py\", line 83, in __call__\n",
      "W0404 11:45:02.289000 54198 site-packages/torch/_dynamo/convert_frame.py:1233]     cg = aot_module_simplified(gm, example_inputs, **self.kwargs)\n",
      "W0404 11:45:02.289000 54198 site-packages/torch/_dynamo/convert_frame.py:1233]   File \"/opt/anaconda3/envs/cs5388-a1/lib/python3.13/site-packages/torch/_functorch/aot_autograd.py\", line 1155, in aot_module_simplified\n",
      "W0404 11:45:02.289000 54198 site-packages/torch/_dynamo/convert_frame.py:1233]     compiled_fn = dispatch_and_compile()\n",
      "W0404 11:45:02.289000 54198 site-packages/torch/_dynamo/convert_frame.py:1233]   File \"/opt/anaconda3/envs/cs5388-a1/lib/python3.13/site-packages/torch/_functorch/aot_autograd.py\", line 1131, in dispatch_and_compile\n",
      "W0404 11:45:02.289000 54198 site-packages/torch/_dynamo/convert_frame.py:1233]     compiled_fn, _ = create_aot_dispatcher_function(\n",
      "W0404 11:45:02.289000 54198 site-packages/torch/_dynamo/convert_frame.py:1233]                      ~~~~~~~~~~~~~~~~~~~~~~~~~~~~~~^\n",
      "W0404 11:45:02.289000 54198 site-packages/torch/_dynamo/convert_frame.py:1233]         functional_call,\n",
      "W0404 11:45:02.289000 54198 site-packages/torch/_dynamo/convert_frame.py:1233]         ^^^^^^^^^^^^^^^^\n",
      "W0404 11:45:02.289000 54198 site-packages/torch/_dynamo/convert_frame.py:1233]     ...<3 lines>...\n",
      "W0404 11:45:02.289000 54198 site-packages/torch/_dynamo/convert_frame.py:1233]         shape_env,\n",
      "W0404 11:45:02.289000 54198 site-packages/torch/_dynamo/convert_frame.py:1233]         ^^^^^^^^^^\n",
      "W0404 11:45:02.289000 54198 site-packages/torch/_dynamo/convert_frame.py:1233]     )\n",
      "W0404 11:45:02.289000 54198 site-packages/torch/_dynamo/convert_frame.py:1233]     ^\n",
      "W0404 11:45:02.289000 54198 site-packages/torch/_dynamo/convert_frame.py:1233]   File \"/opt/anaconda3/envs/cs5388-a1/lib/python3.13/site-packages/torch/_functorch/aot_autograd.py\", line 580, in create_aot_dispatcher_function\n",
      "W0404 11:45:02.289000 54198 site-packages/torch/_dynamo/convert_frame.py:1233]     return _create_aot_dispatcher_function(\n",
      "W0404 11:45:02.289000 54198 site-packages/torch/_dynamo/convert_frame.py:1233]         flat_fn, fake_flat_args, aot_config, fake_mode, shape_env\n",
      "W0404 11:45:02.289000 54198 site-packages/torch/_dynamo/convert_frame.py:1233]     )\n",
      "W0404 11:45:02.289000 54198 site-packages/torch/_dynamo/convert_frame.py:1233]   File \"/opt/anaconda3/envs/cs5388-a1/lib/python3.13/site-packages/torch/_functorch/aot_autograd.py\", line 830, in _create_aot_dispatcher_function\n",
      "W0404 11:45:02.289000 54198 site-packages/torch/_dynamo/convert_frame.py:1233]     compiled_fn, fw_metadata = compiler_fn(\n",
      "W0404 11:45:02.289000 54198 site-packages/torch/_dynamo/convert_frame.py:1233]                                ~~~~~~~~~~~^\n",
      "W0404 11:45:02.289000 54198 site-packages/torch/_dynamo/convert_frame.py:1233]         flat_fn,\n",
      "W0404 11:45:02.289000 54198 site-packages/torch/_dynamo/convert_frame.py:1233]         ^^^^^^^^\n",
      "W0404 11:45:02.289000 54198 site-packages/torch/_dynamo/convert_frame.py:1233]     ...<2 lines>...\n",
      "W0404 11:45:02.289000 54198 site-packages/torch/_dynamo/convert_frame.py:1233]         fw_metadata=fw_metadata,\n",
      "W0404 11:45:02.289000 54198 site-packages/torch/_dynamo/convert_frame.py:1233]         ^^^^^^^^^^^^^^^^^^^^^^^^\n",
      "W0404 11:45:02.289000 54198 site-packages/torch/_dynamo/convert_frame.py:1233]     )\n",
      "W0404 11:45:02.289000 54198 site-packages/torch/_dynamo/convert_frame.py:1233]     ^\n",
      "W0404 11:45:02.289000 54198 site-packages/torch/_dynamo/convert_frame.py:1233]   File \"/opt/anaconda3/envs/cs5388-a1/lib/python3.13/site-packages/torch/_functorch/_aot_autograd/jit_compile_runtime_wrappers.py\", line 678, in aot_dispatch_autograd\n",
      "W0404 11:45:02.289000 54198 site-packages/torch/_dynamo/convert_frame.py:1233]     compiled_fw_func = aot_config.fw_compiler(fw_module, adjusted_flat_args)\n",
      "W0404 11:45:02.289000 54198 site-packages/torch/_dynamo/convert_frame.py:1233]   File \"/opt/anaconda3/envs/cs5388-a1/lib/python3.13/site-packages/torch/_functorch/aot_autograd.py\", line 489, in __call__\n",
      "W0404 11:45:02.289000 54198 site-packages/torch/_dynamo/convert_frame.py:1233]     return self.compiler_fn(gm, example_inputs)\n",
      "W0404 11:45:02.289000 54198 site-packages/torch/_dynamo/convert_frame.py:1233]            ~~~~~~~~~~~~~~~~^^^^^^^^^^^^^^^^^^^^\n",
      "W0404 11:45:02.289000 54198 site-packages/torch/_dynamo/convert_frame.py:1233]   File \"/opt/anaconda3/envs/cs5388-a1/lib/python3.13/site-packages/torch/_inductor/compile_fx.py\", line 1741, in fw_compiler_base\n",
      "W0404 11:45:02.289000 54198 site-packages/torch/_dynamo/convert_frame.py:1233]     return inner_compile(\n",
      "W0404 11:45:02.289000 54198 site-packages/torch/_dynamo/convert_frame.py:1233]         gm,\n",
      "W0404 11:45:02.289000 54198 site-packages/torch/_dynamo/convert_frame.py:1233]     ...<5 lines>...\n",
      "W0404 11:45:02.289000 54198 site-packages/torch/_dynamo/convert_frame.py:1233]         boxed_forward_device_index=forward_device,\n",
      "W0404 11:45:02.289000 54198 site-packages/torch/_dynamo/convert_frame.py:1233]     )\n",
      "W0404 11:45:02.289000 54198 site-packages/torch/_dynamo/convert_frame.py:1233]   File \"/opt/anaconda3/envs/cs5388-a1/lib/python3.13/site-packages/torch/_inductor/compile_fx.py\", line 569, in compile_fx_inner\n",
      "W0404 11:45:02.289000 54198 site-packages/torch/_dynamo/convert_frame.py:1233]     return wrap_compiler_debug(_compile_fx_inner, compiler_name=\"inductor\")(\n",
      "W0404 11:45:02.289000 54198 site-packages/torch/_dynamo/convert_frame.py:1233]            ~~~~~~~~~~~~~~~~~~~~~~~~~~~~~~~~~~~~~~~~~~~~~~~~~~~~~~~~~~~~~~~~^\n",
      "W0404 11:45:02.289000 54198 site-packages/torch/_dynamo/convert_frame.py:1233]         gm,\n",
      "W0404 11:45:02.289000 54198 site-packages/torch/_dynamo/convert_frame.py:1233]         ^^^\n",
      "W0404 11:45:02.289000 54198 site-packages/torch/_dynamo/convert_frame.py:1233]         example_inputs,\n",
      "W0404 11:45:02.289000 54198 site-packages/torch/_dynamo/convert_frame.py:1233]         ^^^^^^^^^^^^^^^\n",
      "W0404 11:45:02.289000 54198 site-packages/torch/_dynamo/convert_frame.py:1233]         **kwargs,\n",
      "W0404 11:45:02.289000 54198 site-packages/torch/_dynamo/convert_frame.py:1233]         ^^^^^^^^^\n",
      "W0404 11:45:02.289000 54198 site-packages/torch/_dynamo/convert_frame.py:1233]     )\n",
      "W0404 11:45:02.289000 54198 site-packages/torch/_dynamo/convert_frame.py:1233]     ^\n",
      "W0404 11:45:02.289000 54198 site-packages/torch/_dynamo/convert_frame.py:1233]   File \"/opt/anaconda3/envs/cs5388-a1/lib/python3.13/site-packages/torch/_dynamo/repro/after_aot.py\", line 102, in debug_wrapper\n",
      "W0404 11:45:02.289000 54198 site-packages/torch/_dynamo/convert_frame.py:1233]     inner_compiled_fn = compiler_fn(gm, example_inputs)\n",
      "W0404 11:45:02.289000 54198 site-packages/torch/_dynamo/convert_frame.py:1233]   File \"/opt/anaconda3/envs/cs5388-a1/lib/python3.13/site-packages/torch/_inductor/compile_fx.py\", line 685, in _compile_fx_inner\n",
      "W0404 11:45:02.289000 54198 site-packages/torch/_dynamo/convert_frame.py:1233]     mb_compiled_graph = fx_codegen_and_compile(\n",
      "W0404 11:45:02.289000 54198 site-packages/torch/_dynamo/convert_frame.py:1233]         gm, example_inputs, inputs_to_check, **graph_kwargs\n",
      "W0404 11:45:02.289000 54198 site-packages/torch/_dynamo/convert_frame.py:1233]     )\n",
      "W0404 11:45:02.289000 54198 site-packages/torch/_dynamo/convert_frame.py:1233]   File \"/opt/anaconda3/envs/cs5388-a1/lib/python3.13/site-packages/torch/_inductor/compile_fx.py\", line 1129, in fx_codegen_and_compile\n",
      "W0404 11:45:02.289000 54198 site-packages/torch/_dynamo/convert_frame.py:1233]     return scheme.codegen_and_compile(gm, example_inputs, inputs_to_check, graph_kwargs)\n",
      "W0404 11:45:02.289000 54198 site-packages/torch/_dynamo/convert_frame.py:1233]            ~~~~~~~~~~~~~~~~~~~~~~~~~~^^^^^^^^^^^^^^^^^^^^^^^^^^^^^^^^^^^^^^^^^^^^^^^^^^^\n",
      "W0404 11:45:02.289000 54198 site-packages/torch/_dynamo/convert_frame.py:1233]   File \"/opt/anaconda3/envs/cs5388-a1/lib/python3.13/site-packages/torch/_inductor/compile_fx.py\", line 1044, in codegen_and_compile\n",
      "W0404 11:45:02.289000 54198 site-packages/torch/_dynamo/convert_frame.py:1233]     compiled_fn = graph.compile_to_module().call\n",
      "W0404 11:45:02.289000 54198 site-packages/torch/_dynamo/convert_frame.py:1233]                   ~~~~~~~~~~~~~~~~~~~~~~~^^\n",
      "W0404 11:45:02.289000 54198 site-packages/torch/_dynamo/convert_frame.py:1233]   File \"/opt/anaconda3/envs/cs5388-a1/lib/python3.13/site-packages/torch/_inductor/graph.py\", line 2027, in compile_to_module\n",
      "W0404 11:45:02.289000 54198 site-packages/torch/_dynamo/convert_frame.py:1233]     return self._compile_to_module()\n",
      "W0404 11:45:02.289000 54198 site-packages/torch/_dynamo/convert_frame.py:1233]            ~~~~~~~~~~~~~~~~~~~~~~~^^\n",
      "W0404 11:45:02.289000 54198 site-packages/torch/_dynamo/convert_frame.py:1233]   File \"/opt/anaconda3/envs/cs5388-a1/lib/python3.13/site-packages/torch/_inductor/graph.py\", line 2033, in _compile_to_module\n",
      "W0404 11:45:02.289000 54198 site-packages/torch/_dynamo/convert_frame.py:1233]     self.codegen_with_cpp_wrapper() if self.cpp_wrapper else self.codegen()\n",
      "W0404 11:45:02.289000 54198 site-packages/torch/_dynamo/convert_frame.py:1233]                                                              ~~~~~~~~~~~~^^\n",
      "W0404 11:45:02.289000 54198 site-packages/torch/_dynamo/convert_frame.py:1233]   File \"/opt/anaconda3/envs/cs5388-a1/lib/python3.13/site-packages/torch/_inductor/graph.py\", line 1968, in codegen\n",
      "W0404 11:45:02.289000 54198 site-packages/torch/_dynamo/convert_frame.py:1233]     self.scheduler.codegen()\n",
      "W0404 11:45:02.289000 54198 site-packages/torch/_dynamo/convert_frame.py:1233]     ~~~~~~~~~~~~~~~~~~~~~~^^\n",
      "W0404 11:45:02.289000 54198 site-packages/torch/_dynamo/convert_frame.py:1233]   File \"/opt/anaconda3/envs/cs5388-a1/lib/python3.13/site-packages/torch/_inductor/scheduler.py\", line 3477, in codegen\n",
      "W0404 11:45:02.289000 54198 site-packages/torch/_dynamo/convert_frame.py:1233]     return self._codegen()\n",
      "W0404 11:45:02.289000 54198 site-packages/torch/_dynamo/convert_frame.py:1233]            ~~~~~~~~~~~~~^^\n",
      "W0404 11:45:02.289000 54198 site-packages/torch/_dynamo/convert_frame.py:1233]   File \"/opt/anaconda3/envs/cs5388-a1/lib/python3.13/site-packages/torch/_inductor/scheduler.py\", line 3554, in _codegen\n",
      "W0404 11:45:02.289000 54198 site-packages/torch/_dynamo/convert_frame.py:1233]     self.get_backend(device).codegen_node(node)\n",
      "W0404 11:45:02.289000 54198 site-packages/torch/_dynamo/convert_frame.py:1233]     ~~~~~~~~~~~~~~~~~~~~~~~~~~~~~~~~~~~~~^^^^^^\n",
      "W0404 11:45:02.289000 54198 site-packages/torch/_dynamo/convert_frame.py:1233]   File \"/opt/anaconda3/envs/cs5388-a1/lib/python3.13/site-packages/torch/_inductor/codegen/cpp.py\", line 4782, in codegen_node\n",
      "W0404 11:45:02.289000 54198 site-packages/torch/_dynamo/convert_frame.py:1233]     cpp_kernel_proxy.codegen_nodes(nodes)\n",
      "W0404 11:45:02.289000 54198 site-packages/torch/_dynamo/convert_frame.py:1233]     ~~~~~~~~~~~~~~~~~~~~~~~~~~~~~~^^^^^^^\n",
      "W0404 11:45:02.289000 54198 site-packages/torch/_dynamo/convert_frame.py:1233]   File \"/opt/anaconda3/envs/cs5388-a1/lib/python3.13/site-packages/torch/_inductor/codegen/cpp.py\", line 4044, in codegen_nodes\n",
      "W0404 11:45:02.289000 54198 site-packages/torch/_dynamo/convert_frame.py:1233]     self.codegen_functions(fn_list, var_sizes_list)\n",
      "W0404 11:45:02.289000 54198 site-packages/torch/_dynamo/convert_frame.py:1233]     ~~~~~~~~~~~~~~~~~~~~~~^^^^^^^^^^^^^^^^^^^^^^^^^\n",
      "W0404 11:45:02.289000 54198 site-packages/torch/_dynamo/convert_frame.py:1233]   File \"/opt/anaconda3/envs/cs5388-a1/lib/python3.13/site-packages/torch/_inductor/codegen/cpp.py\", line 3862, in codegen_functions\n",
      "W0404 11:45:02.289000 54198 site-packages/torch/_dynamo/convert_frame.py:1233]     self.loop_nest = LoopNest.build(scalar_kernel)\n",
      "W0404 11:45:02.289000 54198 site-packages/torch/_dynamo/convert_frame.py:1233]                      ~~~~~~~~~~~~~~^^^^^^^^^^^^^^^\n",
      "W0404 11:45:02.289000 54198 site-packages/torch/_dynamo/convert_frame.py:1233]   File \"/opt/anaconda3/envs/cs5388-a1/lib/python3.13/site-packages/torch/_inductor/codegen/cpp.py\", line 5124, in build\n",
      "W0404 11:45:02.289000 54198 site-packages/torch/_dynamo/convert_frame.py:1233]     loop = LoopLevel(var, size)\n",
      "W0404 11:45:02.289000 54198 site-packages/torch/_dynamo/convert_frame.py:1233]   File \"<string>\", line 13, in __init__\n",
      "W0404 11:45:02.289000 54198 site-packages/torch/_dynamo/convert_frame.py:1233]   File \"/opt/anaconda3/envs/cs5388-a1/lib/python3.13/site-packages/torch/_inductor/codegen/cpp.py\", line 5045, in __post_init__\n",
      "W0404 11:45:02.289000 54198 site-packages/torch/_dynamo/convert_frame.py:1233]     self.simd_nelements: int = picked_vec_isa.nelements() if picked_vec_isa else 0\n",
      "W0404 11:45:02.289000 54198 site-packages/torch/_dynamo/convert_frame.py:1233]                                                              ^^^^^^^^^^^^^^\n",
      "W0404 11:45:02.289000 54198 site-packages/torch/_dynamo/convert_frame.py:1233]   File \"/opt/anaconda3/envs/cs5388-a1/lib/python3.13/site-packages/torch/_inductor/cpu_vec_isa.py\", line 142, in __bool__\n",
      "W0404 11:45:02.289000 54198 site-packages/torch/_dynamo/convert_frame.py:1233]     return self.__bool__impl(config.cpp.vec_isa_ok)\n",
      "W0404 11:45:02.289000 54198 site-packages/torch/_dynamo/convert_frame.py:1233]            ~~~~~~~~~~~~~~~~~^^^^^^^^^^^^^^^^^^^^^^^\n",
      "W0404 11:45:02.289000 54198 site-packages/torch/_dynamo/convert_frame.py:1233]   File \"/opt/anaconda3/envs/cs5388-a1/lib/python3.13/site-packages/torch/_inductor/cpu_vec_isa.py\", line 152, in __bool__impl\n",
      "W0404 11:45:02.289000 54198 site-packages/torch/_dynamo/convert_frame.py:1233]     return self.check_build(VecISA._avx_code)\n",
      "W0404 11:45:02.289000 54198 site-packages/torch/_dynamo/convert_frame.py:1233]            ~~~~~~~~~~~~~~~~^^^^^^^^^^^^^^^^^^\n",
      "W0404 11:45:02.289000 54198 site-packages/torch/_dynamo/convert_frame.py:1233]   File \"/opt/anaconda3/envs/cs5388-a1/lib/python3.13/site-packages/torch/_inductor/cpu_vec_isa.py\", line 102, in check_build\n",
      "W0404 11:45:02.289000 54198 site-packages/torch/_dynamo/convert_frame.py:1233]     extra=_get_isa_dry_compile_fingerprint(self._arch_flags),\n",
      "W0404 11:45:02.289000 54198 site-packages/torch/_dynamo/convert_frame.py:1233]           ~~~~~~~~~~~~~~~~~~~~~~~~~~~~~~~~^^^^^^^^^^^^^^^^^^\n",
      "W0404 11:45:02.289000 54198 site-packages/torch/_dynamo/convert_frame.py:1233]   File \"/opt/anaconda3/envs/cs5388-a1/lib/python3.13/site-packages/torch/_inductor/cpu_vec_isa.py\", line 28, in _get_isa_dry_compile_fingerprint\n",
      "W0404 11:45:02.289000 54198 site-packages/torch/_dynamo/convert_frame.py:1233]     compiler_info = get_compiler_version_info(get_cpp_compiler())\n",
      "W0404 11:45:02.289000 54198 site-packages/torch/_dynamo/convert_frame.py:1233]                                               ~~~~~~~~~~~~~~~~^^\n",
      "W0404 11:45:02.289000 54198 site-packages/torch/_dynamo/convert_frame.py:1233]   File \"/opt/anaconda3/envs/cs5388-a1/lib/python3.13/site-packages/torch/_inductor/cpp_builder.py\", line 152, in get_cpp_compiler\n",
      "W0404 11:45:02.289000 54198 site-packages/torch/_dynamo/convert_frame.py:1233]     compiler = cpp_compiler_search(search)\n",
      "W0404 11:45:02.289000 54198 site-packages/torch/_dynamo/convert_frame.py:1233]   File \"/opt/anaconda3/envs/cs5388-a1/lib/python3.13/site-packages/torch/_inductor/cpp_builder.py\", line 94, in cpp_compiler_search\n",
      "W0404 11:45:02.289000 54198 site-packages/torch/_dynamo/convert_frame.py:1233]     raise exc.InvalidCxxCompiler\n",
      "W0404 11:45:02.289000 54198 site-packages/torch/_dynamo/convert_frame.py:1233] torch._dynamo.exc.BackendCompilerFailed: backend='inductor' raised:\n",
      "W0404 11:45:02.289000 54198 site-packages/torch/_dynamo/convert_frame.py:1233] InvalidCxxCompiler: No working C++ compiler found in torch._inductor.config.cpp.cxx: (None, 'arm64-apple-darwin20.0.0-clang++')\n",
      "W0404 11:45:02.289000 54198 site-packages/torch/_dynamo/convert_frame.py:1233] \n",
      "W0404 11:45:02.289000 54198 site-packages/torch/_dynamo/convert_frame.py:1233] Set TORCH_LOGS=\"+dynamo\" and TORCHDYNAMO_VERBOSE=1 for more information\n",
      "W0404 11:45:02.289000 54198 site-packages/torch/_dynamo/convert_frame.py:1233] \n",
      "W0404 11:45:02.441000 54198 site-packages/torch/_dynamo/convert_frame.py:1233] WON'T CONVERT forward /var/folders/lg/6yppdn9s1750q5k7b8v6mfz4dwvtts/T/ipykernel_54198/250187466.py line 14 \n",
      "W0404 11:45:02.441000 54198 site-packages/torch/_dynamo/convert_frame.py:1233] due to: \n",
      "W0404 11:45:02.441000 54198 site-packages/torch/_dynamo/convert_frame.py:1233] Traceback (most recent call last):\n",
      "W0404 11:45:02.441000 54198 site-packages/torch/_dynamo/convert_frame.py:1233]   File \"/opt/anaconda3/envs/cs5388-a1/lib/python3.13/site-packages/torch/_dynamo/convert_frame.py\", line 1164, in __call__\n",
      "W0404 11:45:02.441000 54198 site-packages/torch/_dynamo/convert_frame.py:1233]     result = self._inner_convert(\n",
      "W0404 11:45:02.441000 54198 site-packages/torch/_dynamo/convert_frame.py:1233]         frame, cache_entry, hooks, frame_state, skip=skip + 1\n",
      "W0404 11:45:02.441000 54198 site-packages/torch/_dynamo/convert_frame.py:1233]     )\n",
      "W0404 11:45:02.441000 54198 site-packages/torch/_dynamo/convert_frame.py:1233]   File \"/opt/anaconda3/envs/cs5388-a1/lib/python3.13/site-packages/torch/_dynamo/convert_frame.py\", line 547, in __call__\n",
      "W0404 11:45:02.441000 54198 site-packages/torch/_dynamo/convert_frame.py:1233]     return _compile(\n",
      "W0404 11:45:02.441000 54198 site-packages/torch/_dynamo/convert_frame.py:1233]         frame.f_code,\n",
      "W0404 11:45:02.441000 54198 site-packages/torch/_dynamo/convert_frame.py:1233]     ...<14 lines>...\n",
      "W0404 11:45:02.441000 54198 site-packages/torch/_dynamo/convert_frame.py:1233]         skip=skip + 1,\n",
      "W0404 11:45:02.441000 54198 site-packages/torch/_dynamo/convert_frame.py:1233]     )\n",
      "W0404 11:45:02.441000 54198 site-packages/torch/_dynamo/convert_frame.py:1233]   File \"/opt/anaconda3/envs/cs5388-a1/lib/python3.13/site-packages/torch/_dynamo/convert_frame.py\", line 986, in _compile\n",
      "W0404 11:45:02.441000 54198 site-packages/torch/_dynamo/convert_frame.py:1233]     guarded_code = compile_inner(code, one_graph, hooks, transform)\n",
      "W0404 11:45:02.441000 54198 site-packages/torch/_dynamo/convert_frame.py:1233]   File \"/opt/anaconda3/envs/cs5388-a1/lib/python3.13/site-packages/torch/_dynamo/convert_frame.py\", line 715, in compile_inner\n",
      "W0404 11:45:02.441000 54198 site-packages/torch/_dynamo/convert_frame.py:1233]     return _compile_inner(code, one_graph, hooks, transform)\n",
      "W0404 11:45:02.441000 54198 site-packages/torch/_dynamo/convert_frame.py:1233]   File \"/opt/anaconda3/envs/cs5388-a1/lib/python3.13/site-packages/torch/_utils_internal.py\", line 95, in wrapper_function\n",
      "W0404 11:45:02.441000 54198 site-packages/torch/_dynamo/convert_frame.py:1233]     return function(*args, **kwargs)\n",
      "W0404 11:45:02.441000 54198 site-packages/torch/_dynamo/convert_frame.py:1233]   File \"/opt/anaconda3/envs/cs5388-a1/lib/python3.13/site-packages/torch/_dynamo/convert_frame.py\", line 750, in _compile_inner\n",
      "W0404 11:45:02.441000 54198 site-packages/torch/_dynamo/convert_frame.py:1233]     out_code = transform_code_object(code, transform)\n",
      "W0404 11:45:02.441000 54198 site-packages/torch/_dynamo/convert_frame.py:1233]   File \"/opt/anaconda3/envs/cs5388-a1/lib/python3.13/site-packages/torch/_dynamo/bytecode_transformation.py\", line 1361, in transform_code_object\n",
      "W0404 11:45:02.441000 54198 site-packages/torch/_dynamo/convert_frame.py:1233]     transformations(instructions, code_options)\n",
      "W0404 11:45:02.441000 54198 site-packages/torch/_dynamo/convert_frame.py:1233]     ~~~~~~~~~~~~~~~^^^^^^^^^^^^^^^^^^^^^^^^^^^^\n",
      "W0404 11:45:02.441000 54198 site-packages/torch/_dynamo/convert_frame.py:1233]   File \"/opt/anaconda3/envs/cs5388-a1/lib/python3.13/site-packages/torch/_dynamo/convert_frame.py\", line 231, in _fn\n",
      "W0404 11:45:02.441000 54198 site-packages/torch/_dynamo/convert_frame.py:1233]     return fn(*args, **kwargs)\n",
      "W0404 11:45:02.441000 54198 site-packages/torch/_dynamo/convert_frame.py:1233]   File \"/opt/anaconda3/envs/cs5388-a1/lib/python3.13/site-packages/torch/_dynamo/convert_frame.py\", line 662, in transform\n",
      "W0404 11:45:02.441000 54198 site-packages/torch/_dynamo/convert_frame.py:1233]     tracer.run()\n",
      "W0404 11:45:02.441000 54198 site-packages/torch/_dynamo/convert_frame.py:1233]     ~~~~~~~~~~^^\n",
      "W0404 11:45:02.441000 54198 site-packages/torch/_dynamo/convert_frame.py:1233]   File \"/opt/anaconda3/envs/cs5388-a1/lib/python3.13/site-packages/torch/_dynamo/symbolic_convert.py\", line 2868, in run\n",
      "W0404 11:45:02.441000 54198 site-packages/torch/_dynamo/convert_frame.py:1233]     super().run()\n",
      "W0404 11:45:02.441000 54198 site-packages/torch/_dynamo/convert_frame.py:1233]     ~~~~~~~~~~~^^\n",
      "W0404 11:45:02.441000 54198 site-packages/torch/_dynamo/convert_frame.py:1233]   File \"/opt/anaconda3/envs/cs5388-a1/lib/python3.13/site-packages/torch/_dynamo/symbolic_convert.py\", line 1052, in run\n",
      "W0404 11:45:02.441000 54198 site-packages/torch/_dynamo/convert_frame.py:1233]     while self.step():\n",
      "W0404 11:45:02.441000 54198 site-packages/torch/_dynamo/convert_frame.py:1233]           ~~~~~~~~~^^\n",
      "W0404 11:45:02.441000 54198 site-packages/torch/_dynamo/convert_frame.py:1233]   File \"/opt/anaconda3/envs/cs5388-a1/lib/python3.13/site-packages/torch/_dynamo/symbolic_convert.py\", line 962, in step\n",
      "W0404 11:45:02.441000 54198 site-packages/torch/_dynamo/convert_frame.py:1233]     self.dispatch_table[inst.opcode](self, inst)\n",
      "W0404 11:45:02.441000 54198 site-packages/torch/_dynamo/convert_frame.py:1233]     ~~~~~~~~~~~~~~~~~~~~~~~~~~~~~~~~^^^^^^^^^^^^\n",
      "W0404 11:45:02.441000 54198 site-packages/torch/_dynamo/convert_frame.py:1233]   File \"/opt/anaconda3/envs/cs5388-a1/lib/python3.13/site-packages/torch/_dynamo/symbolic_convert.py\", line 3048, in RETURN_VALUE\n",
      "W0404 11:45:02.441000 54198 site-packages/torch/_dynamo/convert_frame.py:1233]     self._return(inst)\n",
      "W0404 11:45:02.441000 54198 site-packages/torch/_dynamo/convert_frame.py:1233]     ~~~~~~~~~~~~^^^^^^\n",
      "W0404 11:45:02.441000 54198 site-packages/torch/_dynamo/convert_frame.py:1233]   File \"/opt/anaconda3/envs/cs5388-a1/lib/python3.13/site-packages/torch/_dynamo/symbolic_convert.py\", line 3033, in _return\n",
      "W0404 11:45:02.441000 54198 site-packages/torch/_dynamo/convert_frame.py:1233]     self.output.compile_subgraph(\n",
      "W0404 11:45:02.441000 54198 site-packages/torch/_dynamo/convert_frame.py:1233]     ~~~~~~~~~~~~~~~~~~~~~~~~~~~~^\n",
      "W0404 11:45:02.441000 54198 site-packages/torch/_dynamo/convert_frame.py:1233]         self,\n",
      "W0404 11:45:02.441000 54198 site-packages/torch/_dynamo/convert_frame.py:1233]         ^^^^^\n",
      "W0404 11:45:02.441000 54198 site-packages/torch/_dynamo/convert_frame.py:1233]     ...<2 lines>...\n",
      "W0404 11:45:02.441000 54198 site-packages/torch/_dynamo/convert_frame.py:1233]         ),\n",
      "W0404 11:45:02.441000 54198 site-packages/torch/_dynamo/convert_frame.py:1233]         ^^\n",
      "W0404 11:45:02.441000 54198 site-packages/torch/_dynamo/convert_frame.py:1233]     )\n",
      "W0404 11:45:02.441000 54198 site-packages/torch/_dynamo/convert_frame.py:1233]     ^\n",
      "W0404 11:45:02.441000 54198 site-packages/torch/_dynamo/convert_frame.py:1233]   File \"/opt/anaconda3/envs/cs5388-a1/lib/python3.13/site-packages/torch/_dynamo/output_graph.py\", line 1101, in compile_subgraph\n",
      "W0404 11:45:02.441000 54198 site-packages/torch/_dynamo/convert_frame.py:1233]     self.compile_and_call_fx_graph(\n",
      "W0404 11:45:02.441000 54198 site-packages/torch/_dynamo/convert_frame.py:1233]     ~~~~~~~~~~~~~~~~~~~~~~~~~~~~~~^\n",
      "W0404 11:45:02.441000 54198 site-packages/torch/_dynamo/convert_frame.py:1233]         tx, list(reversed(stack_values)), root, output_replacements\n",
      "W0404 11:45:02.441000 54198 site-packages/torch/_dynamo/convert_frame.py:1233]         ^^^^^^^^^^^^^^^^^^^^^^^^^^^^^^^^^^^^^^^^^^^^^^^^^^^^^^^^^^^\n",
      "W0404 11:45:02.441000 54198 site-packages/torch/_dynamo/convert_frame.py:1233]     )\n",
      "W0404 11:45:02.441000 54198 site-packages/torch/_dynamo/convert_frame.py:1233]     ^\n",
      "W0404 11:45:02.441000 54198 site-packages/torch/_dynamo/convert_frame.py:1233]   File \"/opt/anaconda3/envs/cs5388-a1/lib/python3.13/site-packages/torch/_dynamo/output_graph.py\", line 1382, in compile_and_call_fx_graph\n",
      "W0404 11:45:02.441000 54198 site-packages/torch/_dynamo/convert_frame.py:1233]     compiled_fn = self.call_user_compiler(gm)\n",
      "W0404 11:45:02.441000 54198 site-packages/torch/_dynamo/convert_frame.py:1233]   File \"/opt/anaconda3/envs/cs5388-a1/lib/python3.13/site-packages/torch/_dynamo/output_graph.py\", line 1432, in call_user_compiler\n",
      "W0404 11:45:02.441000 54198 site-packages/torch/_dynamo/convert_frame.py:1233]     return self._call_user_compiler(gm)\n",
      "W0404 11:45:02.441000 54198 site-packages/torch/_dynamo/convert_frame.py:1233]            ~~~~~~~~~~~~~~~~~~~~~~~~^^^^\n",
      "W0404 11:45:02.441000 54198 site-packages/torch/_dynamo/convert_frame.py:1233]   File \"/opt/anaconda3/envs/cs5388-a1/lib/python3.13/site-packages/torch/_dynamo/output_graph.py\", line 1483, in _call_user_compiler\n",
      "W0404 11:45:02.441000 54198 site-packages/torch/_dynamo/convert_frame.py:1233]     raise BackendCompilerFailed(self.compiler_fn, e).with_traceback(\n",
      "W0404 11:45:02.441000 54198 site-packages/torch/_dynamo/convert_frame.py:1233]         e.__traceback__\n",
      "W0404 11:45:02.441000 54198 site-packages/torch/_dynamo/convert_frame.py:1233]     ) from None\n",
      "W0404 11:45:02.441000 54198 site-packages/torch/_dynamo/convert_frame.py:1233]   File \"/opt/anaconda3/envs/cs5388-a1/lib/python3.13/site-packages/torch/_dynamo/output_graph.py\", line 1462, in _call_user_compiler\n",
      "W0404 11:45:02.441000 54198 site-packages/torch/_dynamo/convert_frame.py:1233]     compiled_fn = compiler_fn(gm, self.example_inputs())\n",
      "W0404 11:45:02.441000 54198 site-packages/torch/_dynamo/convert_frame.py:1233]   File \"/opt/anaconda3/envs/cs5388-a1/lib/python3.13/site-packages/torch/_dynamo/repro/after_dynamo.py\", line 130, in __call__\n",
      "W0404 11:45:02.441000 54198 site-packages/torch/_dynamo/convert_frame.py:1233]     compiled_gm = compiler_fn(gm, example_inputs)\n",
      "W0404 11:45:02.441000 54198 site-packages/torch/_dynamo/convert_frame.py:1233]   File \"/opt/anaconda3/envs/cs5388-a1/lib/python3.13/site-packages/torch/__init__.py\", line 2340, in __call__\n",
      "W0404 11:45:02.441000 54198 site-packages/torch/_dynamo/convert_frame.py:1233]     return compile_fx(model_, inputs_, config_patches=self.config)\n",
      "W0404 11:45:02.441000 54198 site-packages/torch/_dynamo/convert_frame.py:1233]   File \"/opt/anaconda3/envs/cs5388-a1/lib/python3.13/site-packages/torch/_inductor/compile_fx.py\", line 1863, in compile_fx\n",
      "W0404 11:45:02.441000 54198 site-packages/torch/_dynamo/convert_frame.py:1233]     return aot_autograd(\n",
      "W0404 11:45:02.441000 54198 site-packages/torch/_dynamo/convert_frame.py:1233]            ~~~~~~~~~~~~~\n",
      "W0404 11:45:02.441000 54198 site-packages/torch/_dynamo/convert_frame.py:1233]     ...<6 lines>...\n",
      "W0404 11:45:02.441000 54198 site-packages/torch/_dynamo/convert_frame.py:1233]         cudagraphs=cudagraphs,\n",
      "W0404 11:45:02.441000 54198 site-packages/torch/_dynamo/convert_frame.py:1233]         ~~~~~~~~~~~~~~~~~~~~~~\n",
      "W0404 11:45:02.441000 54198 site-packages/torch/_dynamo/convert_frame.py:1233]     )(model_, example_inputs_)\n",
      "W0404 11:45:02.441000 54198 site-packages/torch/_dynamo/convert_frame.py:1233]     ~^^^^^^^^^^^^^^^^^^^^^^^^^\n",
      "W0404 11:45:02.441000 54198 site-packages/torch/_dynamo/convert_frame.py:1233]   File \"/opt/anaconda3/envs/cs5388-a1/lib/python3.13/site-packages/torch/_dynamo/backends/common.py\", line 83, in __call__\n",
      "W0404 11:45:02.441000 54198 site-packages/torch/_dynamo/convert_frame.py:1233]     cg = aot_module_simplified(gm, example_inputs, **self.kwargs)\n",
      "W0404 11:45:02.441000 54198 site-packages/torch/_dynamo/convert_frame.py:1233]   File \"/opt/anaconda3/envs/cs5388-a1/lib/python3.13/site-packages/torch/_functorch/aot_autograd.py\", line 1155, in aot_module_simplified\n",
      "W0404 11:45:02.441000 54198 site-packages/torch/_dynamo/convert_frame.py:1233]     compiled_fn = dispatch_and_compile()\n",
      "W0404 11:45:02.441000 54198 site-packages/torch/_dynamo/convert_frame.py:1233]   File \"/opt/anaconda3/envs/cs5388-a1/lib/python3.13/site-packages/torch/_functorch/aot_autograd.py\", line 1131, in dispatch_and_compile\n",
      "W0404 11:45:02.441000 54198 site-packages/torch/_dynamo/convert_frame.py:1233]     compiled_fn, _ = create_aot_dispatcher_function(\n",
      "W0404 11:45:02.441000 54198 site-packages/torch/_dynamo/convert_frame.py:1233]                      ~~~~~~~~~~~~~~~~~~~~~~~~~~~~~~^\n",
      "W0404 11:45:02.441000 54198 site-packages/torch/_dynamo/convert_frame.py:1233]         functional_call,\n",
      "W0404 11:45:02.441000 54198 site-packages/torch/_dynamo/convert_frame.py:1233]         ^^^^^^^^^^^^^^^^\n",
      "W0404 11:45:02.441000 54198 site-packages/torch/_dynamo/convert_frame.py:1233]     ...<3 lines>...\n",
      "W0404 11:45:02.441000 54198 site-packages/torch/_dynamo/convert_frame.py:1233]         shape_env,\n",
      "W0404 11:45:02.441000 54198 site-packages/torch/_dynamo/convert_frame.py:1233]         ^^^^^^^^^^\n",
      "W0404 11:45:02.441000 54198 site-packages/torch/_dynamo/convert_frame.py:1233]     )\n",
      "W0404 11:45:02.441000 54198 site-packages/torch/_dynamo/convert_frame.py:1233]     ^\n",
      "W0404 11:45:02.441000 54198 site-packages/torch/_dynamo/convert_frame.py:1233]   File \"/opt/anaconda3/envs/cs5388-a1/lib/python3.13/site-packages/torch/_functorch/aot_autograd.py\", line 580, in create_aot_dispatcher_function\n",
      "W0404 11:45:02.441000 54198 site-packages/torch/_dynamo/convert_frame.py:1233]     return _create_aot_dispatcher_function(\n",
      "W0404 11:45:02.441000 54198 site-packages/torch/_dynamo/convert_frame.py:1233]         flat_fn, fake_flat_args, aot_config, fake_mode, shape_env\n",
      "W0404 11:45:02.441000 54198 site-packages/torch/_dynamo/convert_frame.py:1233]     )\n",
      "W0404 11:45:02.441000 54198 site-packages/torch/_dynamo/convert_frame.py:1233]   File \"/opt/anaconda3/envs/cs5388-a1/lib/python3.13/site-packages/torch/_functorch/aot_autograd.py\", line 830, in _create_aot_dispatcher_function\n",
      "W0404 11:45:02.441000 54198 site-packages/torch/_dynamo/convert_frame.py:1233]     compiled_fn, fw_metadata = compiler_fn(\n",
      "W0404 11:45:02.441000 54198 site-packages/torch/_dynamo/convert_frame.py:1233]                                ~~~~~~~~~~~^\n",
      "W0404 11:45:02.441000 54198 site-packages/torch/_dynamo/convert_frame.py:1233]         flat_fn,\n",
      "W0404 11:45:02.441000 54198 site-packages/torch/_dynamo/convert_frame.py:1233]         ^^^^^^^^\n",
      "W0404 11:45:02.441000 54198 site-packages/torch/_dynamo/convert_frame.py:1233]     ...<2 lines>...\n",
      "W0404 11:45:02.441000 54198 site-packages/torch/_dynamo/convert_frame.py:1233]         fw_metadata=fw_metadata,\n",
      "W0404 11:45:02.441000 54198 site-packages/torch/_dynamo/convert_frame.py:1233]         ^^^^^^^^^^^^^^^^^^^^^^^^\n",
      "W0404 11:45:02.441000 54198 site-packages/torch/_dynamo/convert_frame.py:1233]     )\n",
      "W0404 11:45:02.441000 54198 site-packages/torch/_dynamo/convert_frame.py:1233]     ^\n",
      "W0404 11:45:02.441000 54198 site-packages/torch/_dynamo/convert_frame.py:1233]   File \"/opt/anaconda3/envs/cs5388-a1/lib/python3.13/site-packages/torch/_functorch/_aot_autograd/jit_compile_runtime_wrappers.py\", line 678, in aot_dispatch_autograd\n",
      "W0404 11:45:02.441000 54198 site-packages/torch/_dynamo/convert_frame.py:1233]     compiled_fw_func = aot_config.fw_compiler(fw_module, adjusted_flat_args)\n",
      "W0404 11:45:02.441000 54198 site-packages/torch/_dynamo/convert_frame.py:1233]   File \"/opt/anaconda3/envs/cs5388-a1/lib/python3.13/site-packages/torch/_functorch/aot_autograd.py\", line 489, in __call__\n",
      "W0404 11:45:02.441000 54198 site-packages/torch/_dynamo/convert_frame.py:1233]     return self.compiler_fn(gm, example_inputs)\n",
      "W0404 11:45:02.441000 54198 site-packages/torch/_dynamo/convert_frame.py:1233]            ~~~~~~~~~~~~~~~~^^^^^^^^^^^^^^^^^^^^\n",
      "W0404 11:45:02.441000 54198 site-packages/torch/_dynamo/convert_frame.py:1233]   File \"/opt/anaconda3/envs/cs5388-a1/lib/python3.13/site-packages/torch/_inductor/compile_fx.py\", line 1741, in fw_compiler_base\n",
      "W0404 11:45:02.441000 54198 site-packages/torch/_dynamo/convert_frame.py:1233]     return inner_compile(\n",
      "W0404 11:45:02.441000 54198 site-packages/torch/_dynamo/convert_frame.py:1233]         gm,\n",
      "W0404 11:45:02.441000 54198 site-packages/torch/_dynamo/convert_frame.py:1233]     ...<5 lines>...\n",
      "W0404 11:45:02.441000 54198 site-packages/torch/_dynamo/convert_frame.py:1233]         boxed_forward_device_index=forward_device,\n",
      "W0404 11:45:02.441000 54198 site-packages/torch/_dynamo/convert_frame.py:1233]     )\n",
      "W0404 11:45:02.441000 54198 site-packages/torch/_dynamo/convert_frame.py:1233]   File \"/opt/anaconda3/envs/cs5388-a1/lib/python3.13/site-packages/torch/_inductor/compile_fx.py\", line 569, in compile_fx_inner\n",
      "W0404 11:45:02.441000 54198 site-packages/torch/_dynamo/convert_frame.py:1233]     return wrap_compiler_debug(_compile_fx_inner, compiler_name=\"inductor\")(\n",
      "W0404 11:45:02.441000 54198 site-packages/torch/_dynamo/convert_frame.py:1233]            ~~~~~~~~~~~~~~~~~~~~~~~~~~~~~~~~~~~~~~~~~~~~~~~~~~~~~~~~~~~~~~~~^\n",
      "W0404 11:45:02.441000 54198 site-packages/torch/_dynamo/convert_frame.py:1233]         gm,\n",
      "W0404 11:45:02.441000 54198 site-packages/torch/_dynamo/convert_frame.py:1233]         ^^^\n",
      "W0404 11:45:02.441000 54198 site-packages/torch/_dynamo/convert_frame.py:1233]         example_inputs,\n",
      "W0404 11:45:02.441000 54198 site-packages/torch/_dynamo/convert_frame.py:1233]         ^^^^^^^^^^^^^^^\n",
      "W0404 11:45:02.441000 54198 site-packages/torch/_dynamo/convert_frame.py:1233]         **kwargs,\n",
      "W0404 11:45:02.441000 54198 site-packages/torch/_dynamo/convert_frame.py:1233]         ^^^^^^^^^\n",
      "W0404 11:45:02.441000 54198 site-packages/torch/_dynamo/convert_frame.py:1233]     )\n",
      "W0404 11:45:02.441000 54198 site-packages/torch/_dynamo/convert_frame.py:1233]     ^\n",
      "W0404 11:45:02.441000 54198 site-packages/torch/_dynamo/convert_frame.py:1233]   File \"/opt/anaconda3/envs/cs5388-a1/lib/python3.13/site-packages/torch/_dynamo/repro/after_aot.py\", line 102, in debug_wrapper\n",
      "W0404 11:45:02.441000 54198 site-packages/torch/_dynamo/convert_frame.py:1233]     inner_compiled_fn = compiler_fn(gm, example_inputs)\n",
      "W0404 11:45:02.441000 54198 site-packages/torch/_dynamo/convert_frame.py:1233]   File \"/opt/anaconda3/envs/cs5388-a1/lib/python3.13/site-packages/torch/_inductor/compile_fx.py\", line 685, in _compile_fx_inner\n",
      "W0404 11:45:02.441000 54198 site-packages/torch/_dynamo/convert_frame.py:1233]     mb_compiled_graph = fx_codegen_and_compile(\n",
      "W0404 11:45:02.441000 54198 site-packages/torch/_dynamo/convert_frame.py:1233]         gm, example_inputs, inputs_to_check, **graph_kwargs\n",
      "W0404 11:45:02.441000 54198 site-packages/torch/_dynamo/convert_frame.py:1233]     )\n",
      "W0404 11:45:02.441000 54198 site-packages/torch/_dynamo/convert_frame.py:1233]   File \"/opt/anaconda3/envs/cs5388-a1/lib/python3.13/site-packages/torch/_inductor/compile_fx.py\", line 1129, in fx_codegen_and_compile\n",
      "W0404 11:45:02.441000 54198 site-packages/torch/_dynamo/convert_frame.py:1233]     return scheme.codegen_and_compile(gm, example_inputs, inputs_to_check, graph_kwargs)\n",
      "W0404 11:45:02.441000 54198 site-packages/torch/_dynamo/convert_frame.py:1233]            ~~~~~~~~~~~~~~~~~~~~~~~~~~^^^^^^^^^^^^^^^^^^^^^^^^^^^^^^^^^^^^^^^^^^^^^^^^^^^\n",
      "W0404 11:45:02.441000 54198 site-packages/torch/_dynamo/convert_frame.py:1233]   File \"/opt/anaconda3/envs/cs5388-a1/lib/python3.13/site-packages/torch/_inductor/compile_fx.py\", line 1044, in codegen_and_compile\n",
      "W0404 11:45:02.441000 54198 site-packages/torch/_dynamo/convert_frame.py:1233]     compiled_fn = graph.compile_to_module().call\n",
      "W0404 11:45:02.441000 54198 site-packages/torch/_dynamo/convert_frame.py:1233]                   ~~~~~~~~~~~~~~~~~~~~~~~^^\n",
      "W0404 11:45:02.441000 54198 site-packages/torch/_dynamo/convert_frame.py:1233]   File \"/opt/anaconda3/envs/cs5388-a1/lib/python3.13/site-packages/torch/_inductor/graph.py\", line 2027, in compile_to_module\n",
      "W0404 11:45:02.441000 54198 site-packages/torch/_dynamo/convert_frame.py:1233]     return self._compile_to_module()\n",
      "W0404 11:45:02.441000 54198 site-packages/torch/_dynamo/convert_frame.py:1233]            ~~~~~~~~~~~~~~~~~~~~~~~^^\n",
      "W0404 11:45:02.441000 54198 site-packages/torch/_dynamo/convert_frame.py:1233]   File \"/opt/anaconda3/envs/cs5388-a1/lib/python3.13/site-packages/torch/_inductor/graph.py\", line 2033, in _compile_to_module\n",
      "W0404 11:45:02.441000 54198 site-packages/torch/_dynamo/convert_frame.py:1233]     self.codegen_with_cpp_wrapper() if self.cpp_wrapper else self.codegen()\n",
      "W0404 11:45:02.441000 54198 site-packages/torch/_dynamo/convert_frame.py:1233]                                                              ~~~~~~~~~~~~^^\n",
      "W0404 11:45:02.441000 54198 site-packages/torch/_dynamo/convert_frame.py:1233]   File \"/opt/anaconda3/envs/cs5388-a1/lib/python3.13/site-packages/torch/_inductor/graph.py\", line 1968, in codegen\n",
      "W0404 11:45:02.441000 54198 site-packages/torch/_dynamo/convert_frame.py:1233]     self.scheduler.codegen()\n",
      "W0404 11:45:02.441000 54198 site-packages/torch/_dynamo/convert_frame.py:1233]     ~~~~~~~~~~~~~~~~~~~~~~^^\n",
      "W0404 11:45:02.441000 54198 site-packages/torch/_dynamo/convert_frame.py:1233]   File \"/opt/anaconda3/envs/cs5388-a1/lib/python3.13/site-packages/torch/_inductor/scheduler.py\", line 3477, in codegen\n",
      "W0404 11:45:02.441000 54198 site-packages/torch/_dynamo/convert_frame.py:1233]     return self._codegen()\n",
      "W0404 11:45:02.441000 54198 site-packages/torch/_dynamo/convert_frame.py:1233]            ~~~~~~~~~~~~~^^\n",
      "W0404 11:45:02.441000 54198 site-packages/torch/_dynamo/convert_frame.py:1233]   File \"/opt/anaconda3/envs/cs5388-a1/lib/python3.13/site-packages/torch/_inductor/scheduler.py\", line 3554, in _codegen\n",
      "W0404 11:45:02.441000 54198 site-packages/torch/_dynamo/convert_frame.py:1233]     self.get_backend(device).codegen_node(node)\n",
      "W0404 11:45:02.441000 54198 site-packages/torch/_dynamo/convert_frame.py:1233]     ~~~~~~~~~~~~~~~~~~~~~~~~~~~~~~~~~~~~~^^^^^^\n",
      "W0404 11:45:02.441000 54198 site-packages/torch/_dynamo/convert_frame.py:1233]   File \"/opt/anaconda3/envs/cs5388-a1/lib/python3.13/site-packages/torch/_inductor/codegen/cpp.py\", line 4782, in codegen_node\n",
      "W0404 11:45:02.441000 54198 site-packages/torch/_dynamo/convert_frame.py:1233]     cpp_kernel_proxy.codegen_nodes(nodes)\n",
      "W0404 11:45:02.441000 54198 site-packages/torch/_dynamo/convert_frame.py:1233]     ~~~~~~~~~~~~~~~~~~~~~~~~~~~~~~^^^^^^^\n",
      "W0404 11:45:02.441000 54198 site-packages/torch/_dynamo/convert_frame.py:1233]   File \"/opt/anaconda3/envs/cs5388-a1/lib/python3.13/site-packages/torch/_inductor/codegen/cpp.py\", line 4044, in codegen_nodes\n",
      "W0404 11:45:02.441000 54198 site-packages/torch/_dynamo/convert_frame.py:1233]     self.codegen_functions(fn_list, var_sizes_list)\n",
      "W0404 11:45:02.441000 54198 site-packages/torch/_dynamo/convert_frame.py:1233]     ~~~~~~~~~~~~~~~~~~~~~~^^^^^^^^^^^^^^^^^^^^^^^^^\n",
      "W0404 11:45:02.441000 54198 site-packages/torch/_dynamo/convert_frame.py:1233]   File \"/opt/anaconda3/envs/cs5388-a1/lib/python3.13/site-packages/torch/_inductor/codegen/cpp.py\", line 3864, in codegen_functions\n",
      "W0404 11:45:02.441000 54198 site-packages/torch/_dynamo/convert_frame.py:1233]     if not self.picked_vec_isa or not self.itervars:\n",
      "W0404 11:45:02.441000 54198 site-packages/torch/_dynamo/convert_frame.py:1233]            ^^^^^^^^^^^^^^^^^^^\n",
      "W0404 11:45:02.441000 54198 site-packages/torch/_dynamo/convert_frame.py:1233]   File \"/opt/anaconda3/envs/cs5388-a1/lib/python3.13/site-packages/torch/_inductor/cpu_vec_isa.py\", line 142, in __bool__\n",
      "W0404 11:45:02.441000 54198 site-packages/torch/_dynamo/convert_frame.py:1233]     return self.__bool__impl(config.cpp.vec_isa_ok)\n",
      "W0404 11:45:02.441000 54198 site-packages/torch/_dynamo/convert_frame.py:1233]            ~~~~~~~~~~~~~~~~~^^^^^^^^^^^^^^^^^^^^^^^\n",
      "W0404 11:45:02.441000 54198 site-packages/torch/_dynamo/convert_frame.py:1233]   File \"/opt/anaconda3/envs/cs5388-a1/lib/python3.13/site-packages/torch/_inductor/cpu_vec_isa.py\", line 152, in __bool__impl\n",
      "W0404 11:45:02.441000 54198 site-packages/torch/_dynamo/convert_frame.py:1233]     return self.check_build(VecISA._avx_code)\n",
      "W0404 11:45:02.441000 54198 site-packages/torch/_dynamo/convert_frame.py:1233]            ~~~~~~~~~~~~~~~~^^^^^^^^^^^^^^^^^^\n",
      "W0404 11:45:02.441000 54198 site-packages/torch/_dynamo/convert_frame.py:1233]   File \"/opt/anaconda3/envs/cs5388-a1/lib/python3.13/site-packages/torch/_inductor/cpu_vec_isa.py\", line 102, in check_build\n",
      "W0404 11:45:02.441000 54198 site-packages/torch/_dynamo/convert_frame.py:1233]     extra=_get_isa_dry_compile_fingerprint(self._arch_flags),\n",
      "W0404 11:45:02.441000 54198 site-packages/torch/_dynamo/convert_frame.py:1233]           ~~~~~~~~~~~~~~~~~~~~~~~~~~~~~~~~^^^^^^^^^^^^^^^^^^\n",
      "W0404 11:45:02.441000 54198 site-packages/torch/_dynamo/convert_frame.py:1233]   File \"/opt/anaconda3/envs/cs5388-a1/lib/python3.13/site-packages/torch/_inductor/cpu_vec_isa.py\", line 28, in _get_isa_dry_compile_fingerprint\n",
      "W0404 11:45:02.441000 54198 site-packages/torch/_dynamo/convert_frame.py:1233]     compiler_info = get_compiler_version_info(get_cpp_compiler())\n",
      "W0404 11:45:02.441000 54198 site-packages/torch/_dynamo/convert_frame.py:1233]                                               ~~~~~~~~~~~~~~~~^^\n",
      "W0404 11:45:02.441000 54198 site-packages/torch/_dynamo/convert_frame.py:1233]   File \"/opt/anaconda3/envs/cs5388-a1/lib/python3.13/site-packages/torch/_inductor/cpp_builder.py\", line 152, in get_cpp_compiler\n",
      "W0404 11:45:02.441000 54198 site-packages/torch/_dynamo/convert_frame.py:1233]     compiler = cpp_compiler_search(search)\n",
      "W0404 11:45:02.441000 54198 site-packages/torch/_dynamo/convert_frame.py:1233]   File \"/opt/anaconda3/envs/cs5388-a1/lib/python3.13/site-packages/torch/_inductor/cpp_builder.py\", line 94, in cpp_compiler_search\n",
      "W0404 11:45:02.441000 54198 site-packages/torch/_dynamo/convert_frame.py:1233]     raise exc.InvalidCxxCompiler\n",
      "W0404 11:45:02.441000 54198 site-packages/torch/_dynamo/convert_frame.py:1233] torch._dynamo.exc.BackendCompilerFailed: backend='inductor' raised:\n",
      "W0404 11:45:02.441000 54198 site-packages/torch/_dynamo/convert_frame.py:1233] InvalidCxxCompiler: No working C++ compiler found in torch._inductor.config.cpp.cxx: (None, 'arm64-apple-darwin20.0.0-clang++')\n",
      "W0404 11:45:02.441000 54198 site-packages/torch/_dynamo/convert_frame.py:1233] \n",
      "W0404 11:45:02.441000 54198 site-packages/torch/_dynamo/convert_frame.py:1233] Set TORCH_LOGS=\"+dynamo\" and TORCHDYNAMO_VERBOSE=1 for more information\n",
      "W0404 11:45:02.441000 54198 site-packages/torch/_dynamo/convert_frame.py:1233] \n",
      "W0404 11:45:02.441000 54198 site-packages/torch/_dynamo/convert_frame.py:1233] Traceback (most recent call last):\n",
      "W0404 11:45:02.441000 54198 site-packages/torch/_dynamo/convert_frame.py:1233]   File \"/opt/anaconda3/envs/cs5388-a1/lib/python3.13/site-packages/torch/_dynamo/convert_frame.py\", line 1164, in __call__\n",
      "W0404 11:45:02.441000 54198 site-packages/torch/_dynamo/convert_frame.py:1233]     result = self._inner_convert(\n",
      "W0404 11:45:02.441000 54198 site-packages/torch/_dynamo/convert_frame.py:1233]         frame, cache_entry, hooks, frame_state, skip=skip + 1\n",
      "W0404 11:45:02.441000 54198 site-packages/torch/_dynamo/convert_frame.py:1233]     )\n",
      "W0404 11:45:02.441000 54198 site-packages/torch/_dynamo/convert_frame.py:1233]   File \"/opt/anaconda3/envs/cs5388-a1/lib/python3.13/site-packages/torch/_dynamo/convert_frame.py\", line 547, in __call__\n",
      "W0404 11:45:02.441000 54198 site-packages/torch/_dynamo/convert_frame.py:1233]     return _compile(\n",
      "W0404 11:45:02.441000 54198 site-packages/torch/_dynamo/convert_frame.py:1233]         frame.f_code,\n",
      "W0404 11:45:02.441000 54198 site-packages/torch/_dynamo/convert_frame.py:1233]     ...<14 lines>...\n",
      "W0404 11:45:02.441000 54198 site-packages/torch/_dynamo/convert_frame.py:1233]         skip=skip + 1,\n",
      "W0404 11:45:02.441000 54198 site-packages/torch/_dynamo/convert_frame.py:1233]     )\n",
      "W0404 11:45:02.441000 54198 site-packages/torch/_dynamo/convert_frame.py:1233]   File \"/opt/anaconda3/envs/cs5388-a1/lib/python3.13/site-packages/torch/_dynamo/convert_frame.py\", line 986, in _compile\n",
      "W0404 11:45:02.441000 54198 site-packages/torch/_dynamo/convert_frame.py:1233]     guarded_code = compile_inner(code, one_graph, hooks, transform)\n",
      "W0404 11:45:02.441000 54198 site-packages/torch/_dynamo/convert_frame.py:1233]   File \"/opt/anaconda3/envs/cs5388-a1/lib/python3.13/site-packages/torch/_dynamo/convert_frame.py\", line 715, in compile_inner\n",
      "W0404 11:45:02.441000 54198 site-packages/torch/_dynamo/convert_frame.py:1233]     return _compile_inner(code, one_graph, hooks, transform)\n",
      "W0404 11:45:02.441000 54198 site-packages/torch/_dynamo/convert_frame.py:1233]   File \"/opt/anaconda3/envs/cs5388-a1/lib/python3.13/site-packages/torch/_utils_internal.py\", line 95, in wrapper_function\n",
      "W0404 11:45:02.441000 54198 site-packages/torch/_dynamo/convert_frame.py:1233]     return function(*args, **kwargs)\n",
      "W0404 11:45:02.441000 54198 site-packages/torch/_dynamo/convert_frame.py:1233]   File \"/opt/anaconda3/envs/cs5388-a1/lib/python3.13/site-packages/torch/_dynamo/convert_frame.py\", line 750, in _compile_inner\n",
      "W0404 11:45:02.441000 54198 site-packages/torch/_dynamo/convert_frame.py:1233]     out_code = transform_code_object(code, transform)\n",
      "W0404 11:45:02.441000 54198 site-packages/torch/_dynamo/convert_frame.py:1233]   File \"/opt/anaconda3/envs/cs5388-a1/lib/python3.13/site-packages/torch/_dynamo/bytecode_transformation.py\", line 1361, in transform_code_object\n",
      "W0404 11:45:02.441000 54198 site-packages/torch/_dynamo/convert_frame.py:1233]     transformations(instructions, code_options)\n",
      "W0404 11:45:02.441000 54198 site-packages/torch/_dynamo/convert_frame.py:1233]     ~~~~~~~~~~~~~~~^^^^^^^^^^^^^^^^^^^^^^^^^^^^\n",
      "W0404 11:45:02.441000 54198 site-packages/torch/_dynamo/convert_frame.py:1233]   File \"/opt/anaconda3/envs/cs5388-a1/lib/python3.13/site-packages/torch/_dynamo/convert_frame.py\", line 231, in _fn\n",
      "W0404 11:45:02.441000 54198 site-packages/torch/_dynamo/convert_frame.py:1233]     return fn(*args, **kwargs)\n",
      "W0404 11:45:02.441000 54198 site-packages/torch/_dynamo/convert_frame.py:1233]   File \"/opt/anaconda3/envs/cs5388-a1/lib/python3.13/site-packages/torch/_dynamo/convert_frame.py\", line 662, in transform\n",
      "W0404 11:45:02.441000 54198 site-packages/torch/_dynamo/convert_frame.py:1233]     tracer.run()\n",
      "W0404 11:45:02.441000 54198 site-packages/torch/_dynamo/convert_frame.py:1233]     ~~~~~~~~~~^^\n",
      "W0404 11:45:02.441000 54198 site-packages/torch/_dynamo/convert_frame.py:1233]   File \"/opt/anaconda3/envs/cs5388-a1/lib/python3.13/site-packages/torch/_dynamo/symbolic_convert.py\", line 2868, in run\n",
      "W0404 11:45:02.441000 54198 site-packages/torch/_dynamo/convert_frame.py:1233]     super().run()\n",
      "W0404 11:45:02.441000 54198 site-packages/torch/_dynamo/convert_frame.py:1233]     ~~~~~~~~~~~^^\n",
      "W0404 11:45:02.441000 54198 site-packages/torch/_dynamo/convert_frame.py:1233]   File \"/opt/anaconda3/envs/cs5388-a1/lib/python3.13/site-packages/torch/_dynamo/symbolic_convert.py\", line 1052, in run\n",
      "W0404 11:45:02.441000 54198 site-packages/torch/_dynamo/convert_frame.py:1233]     while self.step():\n",
      "W0404 11:45:02.441000 54198 site-packages/torch/_dynamo/convert_frame.py:1233]           ~~~~~~~~~^^\n",
      "W0404 11:45:02.441000 54198 site-packages/torch/_dynamo/convert_frame.py:1233]   File \"/opt/anaconda3/envs/cs5388-a1/lib/python3.13/site-packages/torch/_dynamo/symbolic_convert.py\", line 962, in step\n",
      "W0404 11:45:02.441000 54198 site-packages/torch/_dynamo/convert_frame.py:1233]     self.dispatch_table[inst.opcode](self, inst)\n",
      "W0404 11:45:02.441000 54198 site-packages/torch/_dynamo/convert_frame.py:1233]     ~~~~~~~~~~~~~~~~~~~~~~~~~~~~~~~~^^^^^^^^^^^^\n",
      "W0404 11:45:02.441000 54198 site-packages/torch/_dynamo/convert_frame.py:1233]   File \"/opt/anaconda3/envs/cs5388-a1/lib/python3.13/site-packages/torch/_dynamo/symbolic_convert.py\", line 3048, in RETURN_VALUE\n",
      "W0404 11:45:02.441000 54198 site-packages/torch/_dynamo/convert_frame.py:1233]     self._return(inst)\n",
      "W0404 11:45:02.441000 54198 site-packages/torch/_dynamo/convert_frame.py:1233]     ~~~~~~~~~~~~^^^^^^\n",
      "W0404 11:45:02.441000 54198 site-packages/torch/_dynamo/convert_frame.py:1233]   File \"/opt/anaconda3/envs/cs5388-a1/lib/python3.13/site-packages/torch/_dynamo/symbolic_convert.py\", line 3033, in _return\n",
      "W0404 11:45:02.441000 54198 site-packages/torch/_dynamo/convert_frame.py:1233]     self.output.compile_subgraph(\n",
      "W0404 11:45:02.441000 54198 site-packages/torch/_dynamo/convert_frame.py:1233]     ~~~~~~~~~~~~~~~~~~~~~~~~~~~~^\n",
      "W0404 11:45:02.441000 54198 site-packages/torch/_dynamo/convert_frame.py:1233]         self,\n",
      "W0404 11:45:02.441000 54198 site-packages/torch/_dynamo/convert_frame.py:1233]         ^^^^^\n",
      "W0404 11:45:02.441000 54198 site-packages/torch/_dynamo/convert_frame.py:1233]     ...<2 lines>...\n",
      "W0404 11:45:02.441000 54198 site-packages/torch/_dynamo/convert_frame.py:1233]         ),\n",
      "W0404 11:45:02.441000 54198 site-packages/torch/_dynamo/convert_frame.py:1233]         ^^\n",
      "W0404 11:45:02.441000 54198 site-packages/torch/_dynamo/convert_frame.py:1233]     )\n",
      "W0404 11:45:02.441000 54198 site-packages/torch/_dynamo/convert_frame.py:1233]     ^\n",
      "W0404 11:45:02.441000 54198 site-packages/torch/_dynamo/convert_frame.py:1233]   File \"/opt/anaconda3/envs/cs5388-a1/lib/python3.13/site-packages/torch/_dynamo/output_graph.py\", line 1101, in compile_subgraph\n",
      "W0404 11:45:02.441000 54198 site-packages/torch/_dynamo/convert_frame.py:1233]     self.compile_and_call_fx_graph(\n",
      "W0404 11:45:02.441000 54198 site-packages/torch/_dynamo/convert_frame.py:1233]     ~~~~~~~~~~~~~~~~~~~~~~~~~~~~~~^\n",
      "W0404 11:45:02.441000 54198 site-packages/torch/_dynamo/convert_frame.py:1233]         tx, list(reversed(stack_values)), root, output_replacements\n",
      "W0404 11:45:02.441000 54198 site-packages/torch/_dynamo/convert_frame.py:1233]         ^^^^^^^^^^^^^^^^^^^^^^^^^^^^^^^^^^^^^^^^^^^^^^^^^^^^^^^^^^^\n",
      "W0404 11:45:02.441000 54198 site-packages/torch/_dynamo/convert_frame.py:1233]     )\n",
      "W0404 11:45:02.441000 54198 site-packages/torch/_dynamo/convert_frame.py:1233]     ^\n",
      "W0404 11:45:02.441000 54198 site-packages/torch/_dynamo/convert_frame.py:1233]   File \"/opt/anaconda3/envs/cs5388-a1/lib/python3.13/site-packages/torch/_dynamo/output_graph.py\", line 1382, in compile_and_call_fx_graph\n",
      "W0404 11:45:02.441000 54198 site-packages/torch/_dynamo/convert_frame.py:1233]     compiled_fn = self.call_user_compiler(gm)\n",
      "W0404 11:45:02.441000 54198 site-packages/torch/_dynamo/convert_frame.py:1233]   File \"/opt/anaconda3/envs/cs5388-a1/lib/python3.13/site-packages/torch/_dynamo/output_graph.py\", line 1432, in call_user_compiler\n",
      "W0404 11:45:02.441000 54198 site-packages/torch/_dynamo/convert_frame.py:1233]     return self._call_user_compiler(gm)\n",
      "W0404 11:45:02.441000 54198 site-packages/torch/_dynamo/convert_frame.py:1233]            ~~~~~~~~~~~~~~~~~~~~~~~~^^^^\n",
      "W0404 11:45:02.441000 54198 site-packages/torch/_dynamo/convert_frame.py:1233]   File \"/opt/anaconda3/envs/cs5388-a1/lib/python3.13/site-packages/torch/_dynamo/output_graph.py\", line 1483, in _call_user_compiler\n",
      "W0404 11:45:02.441000 54198 site-packages/torch/_dynamo/convert_frame.py:1233]     raise BackendCompilerFailed(self.compiler_fn, e).with_traceback(\n",
      "W0404 11:45:02.441000 54198 site-packages/torch/_dynamo/convert_frame.py:1233]         e.__traceback__\n",
      "W0404 11:45:02.441000 54198 site-packages/torch/_dynamo/convert_frame.py:1233]     ) from None\n",
      "W0404 11:45:02.441000 54198 site-packages/torch/_dynamo/convert_frame.py:1233]   File \"/opt/anaconda3/envs/cs5388-a1/lib/python3.13/site-packages/torch/_dynamo/output_graph.py\", line 1462, in _call_user_compiler\n",
      "W0404 11:45:02.441000 54198 site-packages/torch/_dynamo/convert_frame.py:1233]     compiled_fn = compiler_fn(gm, self.example_inputs())\n",
      "W0404 11:45:02.441000 54198 site-packages/torch/_dynamo/convert_frame.py:1233]   File \"/opt/anaconda3/envs/cs5388-a1/lib/python3.13/site-packages/torch/_dynamo/repro/after_dynamo.py\", line 130, in __call__\n",
      "W0404 11:45:02.441000 54198 site-packages/torch/_dynamo/convert_frame.py:1233]     compiled_gm = compiler_fn(gm, example_inputs)\n",
      "W0404 11:45:02.441000 54198 site-packages/torch/_dynamo/convert_frame.py:1233]   File \"/opt/anaconda3/envs/cs5388-a1/lib/python3.13/site-packages/torch/__init__.py\", line 2340, in __call__\n",
      "W0404 11:45:02.441000 54198 site-packages/torch/_dynamo/convert_frame.py:1233]     return compile_fx(model_, inputs_, config_patches=self.config)\n",
      "W0404 11:45:02.441000 54198 site-packages/torch/_dynamo/convert_frame.py:1233]   File \"/opt/anaconda3/envs/cs5388-a1/lib/python3.13/site-packages/torch/_inductor/compile_fx.py\", line 1863, in compile_fx\n",
      "W0404 11:45:02.441000 54198 site-packages/torch/_dynamo/convert_frame.py:1233]     return aot_autograd(\n",
      "W0404 11:45:02.441000 54198 site-packages/torch/_dynamo/convert_frame.py:1233]            ~~~~~~~~~~~~~\n",
      "W0404 11:45:02.441000 54198 site-packages/torch/_dynamo/convert_frame.py:1233]     ...<6 lines>...\n",
      "W0404 11:45:02.441000 54198 site-packages/torch/_dynamo/convert_frame.py:1233]         cudagraphs=cudagraphs,\n",
      "W0404 11:45:02.441000 54198 site-packages/torch/_dynamo/convert_frame.py:1233]         ~~~~~~~~~~~~~~~~~~~~~~\n",
      "W0404 11:45:02.441000 54198 site-packages/torch/_dynamo/convert_frame.py:1233]     )(model_, example_inputs_)\n",
      "W0404 11:45:02.441000 54198 site-packages/torch/_dynamo/convert_frame.py:1233]     ~^^^^^^^^^^^^^^^^^^^^^^^^^\n",
      "W0404 11:45:02.441000 54198 site-packages/torch/_dynamo/convert_frame.py:1233]   File \"/opt/anaconda3/envs/cs5388-a1/lib/python3.13/site-packages/torch/_dynamo/backends/common.py\", line 83, in __call__\n",
      "W0404 11:45:02.441000 54198 site-packages/torch/_dynamo/convert_frame.py:1233]     cg = aot_module_simplified(gm, example_inputs, **self.kwargs)\n",
      "W0404 11:45:02.441000 54198 site-packages/torch/_dynamo/convert_frame.py:1233]   File \"/opt/anaconda3/envs/cs5388-a1/lib/python3.13/site-packages/torch/_functorch/aot_autograd.py\", line 1155, in aot_module_simplified\n",
      "W0404 11:45:02.441000 54198 site-packages/torch/_dynamo/convert_frame.py:1233]     compiled_fn = dispatch_and_compile()\n",
      "W0404 11:45:02.441000 54198 site-packages/torch/_dynamo/convert_frame.py:1233]   File \"/opt/anaconda3/envs/cs5388-a1/lib/python3.13/site-packages/torch/_functorch/aot_autograd.py\", line 1131, in dispatch_and_compile\n",
      "W0404 11:45:02.441000 54198 site-packages/torch/_dynamo/convert_frame.py:1233]     compiled_fn, _ = create_aot_dispatcher_function(\n",
      "W0404 11:45:02.441000 54198 site-packages/torch/_dynamo/convert_frame.py:1233]                      ~~~~~~~~~~~~~~~~~~~~~~~~~~~~~~^\n",
      "W0404 11:45:02.441000 54198 site-packages/torch/_dynamo/convert_frame.py:1233]         functional_call,\n",
      "W0404 11:45:02.441000 54198 site-packages/torch/_dynamo/convert_frame.py:1233]         ^^^^^^^^^^^^^^^^\n",
      "W0404 11:45:02.441000 54198 site-packages/torch/_dynamo/convert_frame.py:1233]     ...<3 lines>...\n",
      "W0404 11:45:02.441000 54198 site-packages/torch/_dynamo/convert_frame.py:1233]         shape_env,\n",
      "W0404 11:45:02.441000 54198 site-packages/torch/_dynamo/convert_frame.py:1233]         ^^^^^^^^^^\n",
      "W0404 11:45:02.441000 54198 site-packages/torch/_dynamo/convert_frame.py:1233]     )\n",
      "W0404 11:45:02.441000 54198 site-packages/torch/_dynamo/convert_frame.py:1233]     ^\n",
      "W0404 11:45:02.441000 54198 site-packages/torch/_dynamo/convert_frame.py:1233]   File \"/opt/anaconda3/envs/cs5388-a1/lib/python3.13/site-packages/torch/_functorch/aot_autograd.py\", line 580, in create_aot_dispatcher_function\n",
      "W0404 11:45:02.441000 54198 site-packages/torch/_dynamo/convert_frame.py:1233]     return _create_aot_dispatcher_function(\n",
      "W0404 11:45:02.441000 54198 site-packages/torch/_dynamo/convert_frame.py:1233]         flat_fn, fake_flat_args, aot_config, fake_mode, shape_env\n",
      "W0404 11:45:02.441000 54198 site-packages/torch/_dynamo/convert_frame.py:1233]     )\n",
      "W0404 11:45:02.441000 54198 site-packages/torch/_dynamo/convert_frame.py:1233]   File \"/opt/anaconda3/envs/cs5388-a1/lib/python3.13/site-packages/torch/_functorch/aot_autograd.py\", line 830, in _create_aot_dispatcher_function\n",
      "W0404 11:45:02.441000 54198 site-packages/torch/_dynamo/convert_frame.py:1233]     compiled_fn, fw_metadata = compiler_fn(\n",
      "W0404 11:45:02.441000 54198 site-packages/torch/_dynamo/convert_frame.py:1233]                                ~~~~~~~~~~~^\n",
      "W0404 11:45:02.441000 54198 site-packages/torch/_dynamo/convert_frame.py:1233]         flat_fn,\n",
      "W0404 11:45:02.441000 54198 site-packages/torch/_dynamo/convert_frame.py:1233]         ^^^^^^^^\n",
      "W0404 11:45:02.441000 54198 site-packages/torch/_dynamo/convert_frame.py:1233]     ...<2 lines>...\n",
      "W0404 11:45:02.441000 54198 site-packages/torch/_dynamo/convert_frame.py:1233]         fw_metadata=fw_metadata,\n",
      "W0404 11:45:02.441000 54198 site-packages/torch/_dynamo/convert_frame.py:1233]         ^^^^^^^^^^^^^^^^^^^^^^^^\n",
      "W0404 11:45:02.441000 54198 site-packages/torch/_dynamo/convert_frame.py:1233]     )\n",
      "W0404 11:45:02.441000 54198 site-packages/torch/_dynamo/convert_frame.py:1233]     ^\n",
      "W0404 11:45:02.441000 54198 site-packages/torch/_dynamo/convert_frame.py:1233]   File \"/opt/anaconda3/envs/cs5388-a1/lib/python3.13/site-packages/torch/_functorch/_aot_autograd/jit_compile_runtime_wrappers.py\", line 678, in aot_dispatch_autograd\n",
      "W0404 11:45:02.441000 54198 site-packages/torch/_dynamo/convert_frame.py:1233]     compiled_fw_func = aot_config.fw_compiler(fw_module, adjusted_flat_args)\n",
      "W0404 11:45:02.441000 54198 site-packages/torch/_dynamo/convert_frame.py:1233]   File \"/opt/anaconda3/envs/cs5388-a1/lib/python3.13/site-packages/torch/_functorch/aot_autograd.py\", line 489, in __call__\n",
      "W0404 11:45:02.441000 54198 site-packages/torch/_dynamo/convert_frame.py:1233]     return self.compiler_fn(gm, example_inputs)\n",
      "W0404 11:45:02.441000 54198 site-packages/torch/_dynamo/convert_frame.py:1233]            ~~~~~~~~~~~~~~~~^^^^^^^^^^^^^^^^^^^^\n",
      "W0404 11:45:02.441000 54198 site-packages/torch/_dynamo/convert_frame.py:1233]   File \"/opt/anaconda3/envs/cs5388-a1/lib/python3.13/site-packages/torch/_inductor/compile_fx.py\", line 1741, in fw_compiler_base\n",
      "W0404 11:45:02.441000 54198 site-packages/torch/_dynamo/convert_frame.py:1233]     return inner_compile(\n",
      "W0404 11:45:02.441000 54198 site-packages/torch/_dynamo/convert_frame.py:1233]         gm,\n",
      "W0404 11:45:02.441000 54198 site-packages/torch/_dynamo/convert_frame.py:1233]     ...<5 lines>...\n",
      "W0404 11:45:02.441000 54198 site-packages/torch/_dynamo/convert_frame.py:1233]         boxed_forward_device_index=forward_device,\n",
      "W0404 11:45:02.441000 54198 site-packages/torch/_dynamo/convert_frame.py:1233]     )\n",
      "W0404 11:45:02.441000 54198 site-packages/torch/_dynamo/convert_frame.py:1233]   File \"/opt/anaconda3/envs/cs5388-a1/lib/python3.13/site-packages/torch/_inductor/compile_fx.py\", line 569, in compile_fx_inner\n",
      "W0404 11:45:02.441000 54198 site-packages/torch/_dynamo/convert_frame.py:1233]     return wrap_compiler_debug(_compile_fx_inner, compiler_name=\"inductor\")(\n",
      "W0404 11:45:02.441000 54198 site-packages/torch/_dynamo/convert_frame.py:1233]            ~~~~~~~~~~~~~~~~~~~~~~~~~~~~~~~~~~~~~~~~~~~~~~~~~~~~~~~~~~~~~~~~^\n",
      "W0404 11:45:02.441000 54198 site-packages/torch/_dynamo/convert_frame.py:1233]         gm,\n",
      "W0404 11:45:02.441000 54198 site-packages/torch/_dynamo/convert_frame.py:1233]         ^^^\n",
      "W0404 11:45:02.441000 54198 site-packages/torch/_dynamo/convert_frame.py:1233]         example_inputs,\n",
      "W0404 11:45:02.441000 54198 site-packages/torch/_dynamo/convert_frame.py:1233]         ^^^^^^^^^^^^^^^\n",
      "W0404 11:45:02.441000 54198 site-packages/torch/_dynamo/convert_frame.py:1233]         **kwargs,\n",
      "W0404 11:45:02.441000 54198 site-packages/torch/_dynamo/convert_frame.py:1233]         ^^^^^^^^^\n",
      "W0404 11:45:02.441000 54198 site-packages/torch/_dynamo/convert_frame.py:1233]     )\n",
      "W0404 11:45:02.441000 54198 site-packages/torch/_dynamo/convert_frame.py:1233]     ^\n",
      "W0404 11:45:02.441000 54198 site-packages/torch/_dynamo/convert_frame.py:1233]   File \"/opt/anaconda3/envs/cs5388-a1/lib/python3.13/site-packages/torch/_dynamo/repro/after_aot.py\", line 102, in debug_wrapper\n",
      "W0404 11:45:02.441000 54198 site-packages/torch/_dynamo/convert_frame.py:1233]     inner_compiled_fn = compiler_fn(gm, example_inputs)\n",
      "W0404 11:45:02.441000 54198 site-packages/torch/_dynamo/convert_frame.py:1233]   File \"/opt/anaconda3/envs/cs5388-a1/lib/python3.13/site-packages/torch/_inductor/compile_fx.py\", line 685, in _compile_fx_inner\n",
      "W0404 11:45:02.441000 54198 site-packages/torch/_dynamo/convert_frame.py:1233]     mb_compiled_graph = fx_codegen_and_compile(\n",
      "W0404 11:45:02.441000 54198 site-packages/torch/_dynamo/convert_frame.py:1233]         gm, example_inputs, inputs_to_check, **graph_kwargs\n",
      "W0404 11:45:02.441000 54198 site-packages/torch/_dynamo/convert_frame.py:1233]     )\n",
      "W0404 11:45:02.441000 54198 site-packages/torch/_dynamo/convert_frame.py:1233]   File \"/opt/anaconda3/envs/cs5388-a1/lib/python3.13/site-packages/torch/_inductor/compile_fx.py\", line 1129, in fx_codegen_and_compile\n",
      "W0404 11:45:02.441000 54198 site-packages/torch/_dynamo/convert_frame.py:1233]     return scheme.codegen_and_compile(gm, example_inputs, inputs_to_check, graph_kwargs)\n",
      "W0404 11:45:02.441000 54198 site-packages/torch/_dynamo/convert_frame.py:1233]            ~~~~~~~~~~~~~~~~~~~~~~~~~~^^^^^^^^^^^^^^^^^^^^^^^^^^^^^^^^^^^^^^^^^^^^^^^^^^^\n",
      "W0404 11:45:02.441000 54198 site-packages/torch/_dynamo/convert_frame.py:1233]   File \"/opt/anaconda3/envs/cs5388-a1/lib/python3.13/site-packages/torch/_inductor/compile_fx.py\", line 1044, in codegen_and_compile\n",
      "W0404 11:45:02.441000 54198 site-packages/torch/_dynamo/convert_frame.py:1233]     compiled_fn = graph.compile_to_module().call\n",
      "W0404 11:45:02.441000 54198 site-packages/torch/_dynamo/convert_frame.py:1233]                   ~~~~~~~~~~~~~~~~~~~~~~~^^\n",
      "W0404 11:45:02.441000 54198 site-packages/torch/_dynamo/convert_frame.py:1233]   File \"/opt/anaconda3/envs/cs5388-a1/lib/python3.13/site-packages/torch/_inductor/graph.py\", line 2027, in compile_to_module\n",
      "W0404 11:45:02.441000 54198 site-packages/torch/_dynamo/convert_frame.py:1233]     return self._compile_to_module()\n",
      "W0404 11:45:02.441000 54198 site-packages/torch/_dynamo/convert_frame.py:1233]            ~~~~~~~~~~~~~~~~~~~~~~~^^\n",
      "W0404 11:45:02.441000 54198 site-packages/torch/_dynamo/convert_frame.py:1233]   File \"/opt/anaconda3/envs/cs5388-a1/lib/python3.13/site-packages/torch/_inductor/graph.py\", line 2033, in _compile_to_module\n",
      "W0404 11:45:02.441000 54198 site-packages/torch/_dynamo/convert_frame.py:1233]     self.codegen_with_cpp_wrapper() if self.cpp_wrapper else self.codegen()\n",
      "W0404 11:45:02.441000 54198 site-packages/torch/_dynamo/convert_frame.py:1233]                                                              ~~~~~~~~~~~~^^\n",
      "W0404 11:45:02.441000 54198 site-packages/torch/_dynamo/convert_frame.py:1233]   File \"/opt/anaconda3/envs/cs5388-a1/lib/python3.13/site-packages/torch/_inductor/graph.py\", line 1968, in codegen\n",
      "W0404 11:45:02.441000 54198 site-packages/torch/_dynamo/convert_frame.py:1233]     self.scheduler.codegen()\n",
      "W0404 11:45:02.441000 54198 site-packages/torch/_dynamo/convert_frame.py:1233]     ~~~~~~~~~~~~~~~~~~~~~~^^\n",
      "W0404 11:45:02.441000 54198 site-packages/torch/_dynamo/convert_frame.py:1233]   File \"/opt/anaconda3/envs/cs5388-a1/lib/python3.13/site-packages/torch/_inductor/scheduler.py\", line 3477, in codegen\n",
      "W0404 11:45:02.441000 54198 site-packages/torch/_dynamo/convert_frame.py:1233]     return self._codegen()\n",
      "W0404 11:45:02.441000 54198 site-packages/torch/_dynamo/convert_frame.py:1233]            ~~~~~~~~~~~~~^^\n",
      "W0404 11:45:02.441000 54198 site-packages/torch/_dynamo/convert_frame.py:1233]   File \"/opt/anaconda3/envs/cs5388-a1/lib/python3.13/site-packages/torch/_inductor/scheduler.py\", line 3554, in _codegen\n",
      "W0404 11:45:02.441000 54198 site-packages/torch/_dynamo/convert_frame.py:1233]     self.get_backend(device).codegen_node(node)\n",
      "W0404 11:45:02.441000 54198 site-packages/torch/_dynamo/convert_frame.py:1233]     ~~~~~~~~~~~~~~~~~~~~~~~~~~~~~~~~~~~~~^^^^^^\n",
      "W0404 11:45:02.441000 54198 site-packages/torch/_dynamo/convert_frame.py:1233]   File \"/opt/anaconda3/envs/cs5388-a1/lib/python3.13/site-packages/torch/_inductor/codegen/cpp.py\", line 4782, in codegen_node\n",
      "W0404 11:45:02.441000 54198 site-packages/torch/_dynamo/convert_frame.py:1233]     cpp_kernel_proxy.codegen_nodes(nodes)\n",
      "W0404 11:45:02.441000 54198 site-packages/torch/_dynamo/convert_frame.py:1233]     ~~~~~~~~~~~~~~~~~~~~~~~~~~~~~~^^^^^^^\n",
      "W0404 11:45:02.441000 54198 site-packages/torch/_dynamo/convert_frame.py:1233]   File \"/opt/anaconda3/envs/cs5388-a1/lib/python3.13/site-packages/torch/_inductor/codegen/cpp.py\", line 4044, in codegen_nodes\n",
      "W0404 11:45:02.441000 54198 site-packages/torch/_dynamo/convert_frame.py:1233]     self.codegen_functions(fn_list, var_sizes_list)\n",
      "W0404 11:45:02.441000 54198 site-packages/torch/_dynamo/convert_frame.py:1233]     ~~~~~~~~~~~~~~~~~~~~~~^^^^^^^^^^^^^^^^^^^^^^^^^\n",
      "W0404 11:45:02.441000 54198 site-packages/torch/_dynamo/convert_frame.py:1233]   File \"/opt/anaconda3/envs/cs5388-a1/lib/python3.13/site-packages/torch/_inductor/codegen/cpp.py\", line 3864, in codegen_functions\n",
      "W0404 11:45:02.441000 54198 site-packages/torch/_dynamo/convert_frame.py:1233]     if not self.picked_vec_isa or not self.itervars:\n",
      "W0404 11:45:02.441000 54198 site-packages/torch/_dynamo/convert_frame.py:1233]            ^^^^^^^^^^^^^^^^^^^\n",
      "W0404 11:45:02.441000 54198 site-packages/torch/_dynamo/convert_frame.py:1233]   File \"/opt/anaconda3/envs/cs5388-a1/lib/python3.13/site-packages/torch/_inductor/cpu_vec_isa.py\", line 142, in __bool__\n",
      "W0404 11:45:02.441000 54198 site-packages/torch/_dynamo/convert_frame.py:1233]     return self.__bool__impl(config.cpp.vec_isa_ok)\n",
      "W0404 11:45:02.441000 54198 site-packages/torch/_dynamo/convert_frame.py:1233]            ~~~~~~~~~~~~~~~~~^^^^^^^^^^^^^^^^^^^^^^^\n",
      "W0404 11:45:02.441000 54198 site-packages/torch/_dynamo/convert_frame.py:1233]   File \"/opt/anaconda3/envs/cs5388-a1/lib/python3.13/site-packages/torch/_inductor/cpu_vec_isa.py\", line 152, in __bool__impl\n",
      "W0404 11:45:02.441000 54198 site-packages/torch/_dynamo/convert_frame.py:1233]     return self.check_build(VecISA._avx_code)\n",
      "W0404 11:45:02.441000 54198 site-packages/torch/_dynamo/convert_frame.py:1233]            ~~~~~~~~~~~~~~~~^^^^^^^^^^^^^^^^^^\n",
      "W0404 11:45:02.441000 54198 site-packages/torch/_dynamo/convert_frame.py:1233]   File \"/opt/anaconda3/envs/cs5388-a1/lib/python3.13/site-packages/torch/_inductor/cpu_vec_isa.py\", line 102, in check_build\n",
      "W0404 11:45:02.441000 54198 site-packages/torch/_dynamo/convert_frame.py:1233]     extra=_get_isa_dry_compile_fingerprint(self._arch_flags),\n",
      "W0404 11:45:02.441000 54198 site-packages/torch/_dynamo/convert_frame.py:1233]           ~~~~~~~~~~~~~~~~~~~~~~~~~~~~~~~~^^^^^^^^^^^^^^^^^^\n",
      "W0404 11:45:02.441000 54198 site-packages/torch/_dynamo/convert_frame.py:1233]   File \"/opt/anaconda3/envs/cs5388-a1/lib/python3.13/site-packages/torch/_inductor/cpu_vec_isa.py\", line 28, in _get_isa_dry_compile_fingerprint\n",
      "W0404 11:45:02.441000 54198 site-packages/torch/_dynamo/convert_frame.py:1233]     compiler_info = get_compiler_version_info(get_cpp_compiler())\n",
      "W0404 11:45:02.441000 54198 site-packages/torch/_dynamo/convert_frame.py:1233]                                               ~~~~~~~~~~~~~~~~^^\n",
      "W0404 11:45:02.441000 54198 site-packages/torch/_dynamo/convert_frame.py:1233]   File \"/opt/anaconda3/envs/cs5388-a1/lib/python3.13/site-packages/torch/_inductor/cpp_builder.py\", line 152, in get_cpp_compiler\n",
      "W0404 11:45:02.441000 54198 site-packages/torch/_dynamo/convert_frame.py:1233]     compiler = cpp_compiler_search(search)\n",
      "W0404 11:45:02.441000 54198 site-packages/torch/_dynamo/convert_frame.py:1233]   File \"/opt/anaconda3/envs/cs5388-a1/lib/python3.13/site-packages/torch/_inductor/cpp_builder.py\", line 94, in cpp_compiler_search\n",
      "W0404 11:45:02.441000 54198 site-packages/torch/_dynamo/convert_frame.py:1233]     raise exc.InvalidCxxCompiler\n",
      "W0404 11:45:02.441000 54198 site-packages/torch/_dynamo/convert_frame.py:1233] torch._dynamo.exc.BackendCompilerFailed: backend='inductor' raised:\n",
      "W0404 11:45:02.441000 54198 site-packages/torch/_dynamo/convert_frame.py:1233] InvalidCxxCompiler: No working C++ compiler found in torch._inductor.config.cpp.cxx: (None, 'arm64-apple-darwin20.0.0-clang++')\n",
      "W0404 11:45:02.441000 54198 site-packages/torch/_dynamo/convert_frame.py:1233] \n",
      "W0404 11:45:02.441000 54198 site-packages/torch/_dynamo/convert_frame.py:1233] Set TORCH_LOGS=\"+dynamo\" and TORCHDYNAMO_VERBOSE=1 for more information\n",
      "W0404 11:45:02.441000 54198 site-packages/torch/_dynamo/convert_frame.py:1233] \n"
     ]
    },
    {
     "name": "stdout",
     "output_type": "stream",
     "text": [
      "Train - Loss: 648.5659 Accuracy: 0.7548\n",
      "Valid - Loss: 65.9750 Accuracy: 0.9010\n",
      "Epoch: 1\n",
      "Train - Loss: 112.6115 Accuracy: 0.9583\n",
      "Valid - Loss: 33.0639 Accuracy: 0.9490\n",
      "Epoch: 2\n",
      "Train - Loss: 56.4515 Accuracy: 0.9790\n",
      "Valid - Loss: 23.5174 Accuracy: 0.9587\n",
      "Epoch: 3\n",
      "Train - Loss: 44.2285 Accuracy: 0.9837\n",
      "Valid - Loss: 77.9578 Accuracy: 0.8841\n",
      "Epoch: 4\n",
      "Train - Loss: 36.4000 Accuracy: 0.9873\n",
      "Valid - Loss: 27.6017 Accuracy: 0.9668\n",
      "Epoch: 5\n",
      "Train - Loss: 31.6429 Accuracy: 0.9882\n",
      "Valid - Loss: 21.9469 Accuracy: 0.9670\n",
      "Epoch: 6\n",
      "Train - Loss: 24.8619 Accuracy: 0.9907\n",
      "Valid - Loss: 14.4635 Accuracy: 0.9868\n",
      "Epoch: 7\n",
      "Train - Loss: 26.9627 Accuracy: 0.9899\n",
      "Valid - Loss: 42.2746 Accuracy: 0.9625\n",
      "Epoch: 8\n",
      "Train - Loss: 22.2130 Accuracy: 0.9911\n",
      "Valid - Loss: 50.2151 Accuracy: 0.9347\n",
      "Epoch: 9\n",
      "Train - Loss: 21.4932 Accuracy: 0.9924\n",
      "Valid - Loss: 20.0456 Accuracy: 0.9753\n",
      "Epoch: 10\n",
      "Train - Loss: 15.6553 Accuracy: 0.9942\n",
      "Valid - Loss: 32.2727 Accuracy: 0.9651\n",
      "Epoch: 11\n",
      "Train - Loss: 15.6636 Accuracy: 0.9940\n",
      "Valid - Loss: 17.0842 Accuracy: 0.9815\n",
      "Epoch: 12\n",
      "Train - Loss: 21.1278 Accuracy: 0.9922\n",
      "Valid - Loss: 27.8042 Accuracy: 0.9731\n",
      "Epoch: 13\n",
      "Train - Loss: 13.1600 Accuracy: 0.9952\n",
      "Valid - Loss: 19.4343 Accuracy: 0.9852\n",
      "Epoch: 14\n",
      "Train - Loss: 13.5228 Accuracy: 0.9950\n",
      "Valid - Loss: 20.6522 Accuracy: 0.9817\n",
      "Epoch: 15\n",
      "Train - Loss: 14.8456 Accuracy: 0.9950\n",
      "Valid - Loss: 15.6229 Accuracy: 0.9776\n",
      "Epoch: 16\n",
      "Train - Loss: 13.8747 Accuracy: 0.9947\n",
      "Valid - Loss: 29.7398 Accuracy: 0.9534\n",
      "Epoch: 17\n",
      "Train - Loss: 9.0080 Accuracy: 0.9969\n",
      "Valid - Loss: 14.3220 Accuracy: 0.9870\n",
      "Epoch: 18\n",
      "Train - Loss: 13.7623 Accuracy: 0.9950\n",
      "Valid - Loss: 28.2204 Accuracy: 0.9714\n",
      "Epoch: 19\n",
      "Train - Loss: 13.3764 Accuracy: 0.9945\n",
      "Valid - Loss: 14.4839 Accuracy: 0.9805\n"
     ]
    }
   ],
   "source": [
    "epochs = 20\n",
    "\n",
    "for epoch in range(epochs):\n",
    "    print('Epoch: {}'.format(epoch))\n",
    "    train()\n",
    "    validate()"
   ]
  },
  {
   "cell_type": "markdown",
   "metadata": {
    "id": "h0WoN84J3Y-l"
   },
   "source": [
    "## Discussion of Results"
   ]
  },
  {
   "cell_type": "markdown",
   "metadata": {
    "id": "-EPTunxK3Y-l"
   },
   "source": [
    "You will notice that the validation accuracy is higher, and more consistent. This means that our model is no longer overfitting in the way it was; it generalizes better, making better predictions on new data.\n",
    "\n",
    "The training accuracy may be lower, and that's ok. Compared to before, the model is being exposed to a much larger variety of data."
   ]
  },
  {
   "cell_type": "markdown",
   "metadata": {
    "id": "npYY9cvA3Y-l"
   },
   "source": [
    "## Saving the Model"
   ]
  },
  {
   "cell_type": "markdown",
   "metadata": {
    "id": "EW_TgWkN3Y-l"
   },
   "source": [
    "Now that we have a well-trained model, we will want to deploy it to perform inference on new images.\n",
    "\n",
    "It is common, once we have a trained model that we are happy with to save it to disk. PyTorch has [multiple ways](https://pytorch.org/tutorials/beginner/saving_loading_models.html) to do this, but for now, we will use `torch.save`. We will also need to save the code for our `MyConvBlock` custom module, which we did in [utils.py](./utils.py). In the next notebook, we'll load the model and use it to read new sign language pictures.\n",
    "\n",
    "PyTorch cannot save a compiled model ([see this post](https://discuss.pytorch.org/t/how-to-save-load-a-model-with-torch-compile/179739)), so we will instead "
   ]
  },
  {
   "cell_type": "code",
   "execution_count": null,
   "metadata": {
    "executionInfo": {
     "elapsed": 326,
     "status": "ok",
     "timestamp": 1715241533765,
     "user": {
      "displayName": "Danielle Detering US",
      "userId": "15432464718872067879"
     },
     "user_tz": 420
    },
    "id": "snAS8LalsMv4"
   },
   "outputs": [],
   "source": [
    "torch.save(model, 'model.pth')"
   ]
  },
  {
   "cell_type": "markdown",
   "metadata": {
    "id": "hfePFALr3Y-l"
   },
   "source": [
    "## Summary"
   ]
  },
  {
   "cell_type": "markdown",
   "metadata": {
    "id": "7fo5z3M03Y-l"
   },
   "source": [
    "In this section, you used TorchVision to augment a dataset. This resulted in a trained model with less overfitting and excellent validation image results."
   ]
  }
 ],
 "metadata": {
  "accelerator": "GPU",
  "colab": {
   "gpuType": "T4",
   "provenance": []
  },
  "kernelspec": {
   "display_name": "cs5388-a1",
   "language": "python",
   "name": "python3"
  },
  "language_info": {
   "codemirror_mode": {
    "name": "ipython",
    "version": 3
   },
   "file_extension": ".py",
   "mimetype": "text/x-python",
   "name": "python",
   "nbconvert_exporter": "python",
   "pygments_lexer": "ipython3",
   "version": "3.13.1"
  }
 },
 "nbformat": 4,
 "nbformat_minor": 4
}
